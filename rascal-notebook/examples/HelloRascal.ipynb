{
 "cells": [
  {
   "cell_type": "markdown",
   "metadata": {},
   "source": [
    "# Hello Rascal Example"
   ]
  },
  {
   "cell_type": "markdown",
   "metadata": {},
   "source": [
    "Rascal is a statically typed and {compiled,interpreted} language. There is an interpreter and an (experimental) compiler. We are now using the interpreter."
   ]
  },
  {
   "cell_type": "code",
   "execution_count": null,
   "metadata": {},
   "outputs": [],
   "source": [
    "import IO;\n",
    "println(\"Hello Rascal!\");\n",
    "}"
   ]
  }
 }
 ]
 "nbformat": 4,
 "nbformat_minor": 2
}
