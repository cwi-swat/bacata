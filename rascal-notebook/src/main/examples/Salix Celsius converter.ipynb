{
 "cells": [
  {
   "cell_type": "code",
   "execution_count": null,
   "metadata": {},
   "outputs": [],
   "source": [
    "import bacata::visualization::Visualization;"
   ]
  },
  {
   "cell_type": "code",
   "execution_count": null,
   "metadata": {},
   "outputs": [],
   "source": [
    "import salix::App;"
   ]
  },
  {
   "cell_type": "code",
   "execution_count": null,
   "metadata": {},
   "outputs": [],
   "source": [
    "import salix::HTML;"
   ]
  },
  {
   "cell_type": "code",
   "execution_count": null,
   "metadata": {},
   "outputs": [],
   "source": [
    "import String;"
   ]
  },
  {
   "cell_type": "code",
   "execution_count": null,
   "metadata": {},
   "outputs": [],
   "source": [
    "import util::Math;"
   ]
  },
  {
   "cell_type": "markdown",
   "metadata": {},
   "source": [
    "# Visualization Server Set Up"
   ]
  },
  {
   "cell_type": "code",
   "execution_count": null,
   "metadata": {},
   "outputs": [],
   "source": [
    "vis = visualizationServer();"
   ]
  },
  {
   "cell_type": "markdown",
   "metadata": {},
   "source": [
    "# Celsius Converter App"
   ]
  },
  {
   "cell_type": "code",
   "execution_count": null,
   "metadata": {},
   "outputs": [],
   "source": [
    "alias Model = real;"
   ]
  },
  {
   "cell_type": "code",
   "execution_count": null,
   "metadata": {},
   "outputs": [],
   "source": [
    "data Msg\n",
    "  = c(str c)\n",
    "  | f(str f)\n",
    "  ;"
   ]
  },
  {
   "cell_type": "code",
   "execution_count": null,
   "metadata": {},
   "outputs": [],
   "source": [
    "Model init() = 37.0;"
   ]
  },
  {
   "cell_type": "code",
   "execution_count": null,
   "metadata": {},
   "outputs": [],
   "source": [
    "void view(Model m) { \n",
    "  div(() {\n",
    "    h2(\"Celsius to fahrenheit converter\");\n",
    "    p(() {\n",
    "      text(\"C: \"); \n",
    "      input(\\value(\"<round(m)>\"),\\type(\"text\"), onInput(c));\n",
    "    });\n",
    "    p(() {\n",
    "      text(\"F: \");\n",
    "      input(\\value(\"<round(toF(m))>\"),\\type(\"text\"), onInput(f));\n",
    "    });\n",
    "  });\n",
    "}"
   ]
  },
  {
   "cell_type": "code",
   "execution_count": null,
   "metadata": {},
   "outputs": [],
   "source": [
    "real toF(real c) = c * 9.0/5.0 + 32.0;"
   ]
  },
  {
   "cell_type": "code",
   "execution_count": null,
   "metadata": {},
   "outputs": [],
   "source": [
    "real toC(real f) = (f - 32.0) * 5.0/9.0;"
   ]
  },
  {
   "cell_type": "code",
   "execution_count": null,
   "metadata": {},
   "outputs": [],
   "source": [
    "real toReal_(str s) {\n",
    "  try {\n",
    "    return toReal(s);\n",
    "  }\n",
    "  catch IllegalArgument():\n",
    "    return 0.0;\n",
    "}"
   ]
  },
  {
   "cell_type": "code",
   "execution_count": null,
   "metadata": {},
   "outputs": [],
   "source": [
    "real update(Msg msg, Model model) {\n",
    "  switch (msg) {\n",
    "    case c(str new): model = toReal_(new);\n",
    "    case f(str new): model = toC(toReal_(new));\n",
    "  }\n",
    "  return model;\n",
    "}"
   ]
  },
  {
   "cell_type": "markdown",
   "metadata": {},
   "source": [
    "# Render Application"
   ]
  },
  {
   "cell_type": "code",
   "execution_count": null,
   "metadata": {},
   "outputs": [],
   "source": [
    "vis.consumer(makeApp(init, view, update), \"id2\");"
   ]
  },
  {
   "cell_type": "code",
   "execution_count": null,
   "metadata": {},
   "outputs": [],
   "source": []
  }
 ],
 "metadata": {
  "kernelspec": {
   "display_name": "Rascal",
   "language": "Rascal",
   "name": "rascal-local"
  },
  "language_info": {
   "codemirror_mode": {
    "name": "rascal"
   },
   "file_extension": ".rsc",
   "mimetype": "text/x-rascal",
   "name": "Rascal",
   "version": "1.8.0_77"
  }
 },
 "nbformat": 4,
 "nbformat_minor": 2
}
