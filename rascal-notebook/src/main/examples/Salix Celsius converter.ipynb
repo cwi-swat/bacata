{
 "cells": [
  {
   "cell_type": "code",
   "execution_count": 1,
   "metadata": {},
   "outputs": [
    {
     "data": {
      "text/html": [
       "ok\n"
      ]
     },
     "execution_count": 1,
     "metadata": {},
     "output_type": "execute_result"
    }
   ],
   "source": [
    "import bacata::salix::Bridge;"
   ]
  },
  {
   "cell_type": "code",
   "execution_count": 2,
   "metadata": {},
   "outputs": [
    {
     "data": {
      "text/html": [
       "ok\n"
      ]
     },
     "execution_count": 2,
     "metadata": {},
     "output_type": "execute_result"
    }
   ],
   "source": [
    "import salix::App;"
   ]
  },
  {
   "cell_type": "code",
   "execution_count": 3,
   "metadata": {},
   "outputs": [
    {
     "data": {
      "text/html": [
       "ok\n"
      ]
     },
     "execution_count": 3,
     "metadata": {},
     "output_type": "execute_result"
    }
   ],
   "source": [
    "import salix::HTML;"
   ]
  },
  {
   "cell_type": "code",
   "execution_count": 4,
   "metadata": {},
   "outputs": [
    {
     "data": {
      "text/html": [
       "ok\n"
      ]
     },
     "execution_count": 4,
     "metadata": {},
     "output_type": "execute_result"
    }
   ],
   "source": [
    "import String;"
   ]
  },
  {
   "cell_type": "code",
   "execution_count": 5,
   "metadata": {},
   "outputs": [
    {
     "data": {
      "text/html": [
       "ok\n"
      ]
     },
     "execution_count": 5,
     "metadata": {},
     "output_type": "execute_result"
    }
   ],
   "source": [
    "import util::Math;"
   ]
  },
  {
   "cell_type": "markdown",
   "metadata": {},
   "source": [
    "## Visualization Server Set Up"
   ]
  },
  {
   "cell_type": "code",
   "execution_count": 6,
   "metadata": {},
   "outputs": [
    {
     "name": "stdout",
     "output_type": "stream",
     "text": [
      "Salix Serving: |http://localhost:3535|\n"
     ]
    },
    {
     "data": {
      "text/html": [
       "<div><pre title=\"Type: SalixMultiplexer\"><function(\u001b[0;34;4m|jar:///Users/mveranom/Documents/bacata/bacata-rascal/target/bacata-rascal-0.1.0-SNAPSHOT-jar-with-dependencies.jar!/src/bacata/salix/Bridge.rsc|(1533,81,<57,10>,<60,3>)\u001b[m),function(\u001b[0;34;4m|jar:///Users/mveranom/Documents/bacata/bacata-rascal/target/bacata-rascal-0.1.0-SNAPSHOT-jar-with-dependencies.jar!/src/bacata/salix/Bridge.rsc|(1616,28,<60,5>,<62,3>)\u001b[m),\u001b[0;34;4m|http://localhost:3535|\u001b[m></pre></div>"
      ]
     },
     "execution_count": 6,
     "metadata": {},
     "output_type": "execute_result"
    }
   ],
   "source": [
    "visualizationServer = makeSalixMultiplexer(|http://localhost:3535|, |tmp:///|);"
   ]
  },
  {
   "cell_type": "markdown",
   "metadata": {},
   "source": [
    "# Celsius Converter App"
   ]
  },
  {
   "cell_type": "code",
   "execution_count": 7,
   "metadata": {},
   "outputs": [
    {
     "data": {
      "text/html": [
       "ok\n"
      ]
     },
     "execution_count": 7,
     "metadata": {},
     "output_type": "execute_result"
    }
   ],
   "source": [
    "alias Model = real;"
   ]
  },
  {
   "cell_type": "code",
   "execution_count": 8,
   "metadata": {},
   "outputs": [
    {
     "data": {
      "text/html": [
       "ok\n"
      ]
     },
     "execution_count": 8,
     "metadata": {},
     "output_type": "execute_result"
    }
   ],
   "source": [
    "data Msg\n",
    "  = c(str c)\n",
    "  | f(str f)\n",
    "  ;"
   ]
  },
  {
   "cell_type": "code",
   "execution_count": 9,
   "metadata": {},
   "outputs": [
    {
     "data": {
      "text/html": [
       "<div><pre title=\"Type: Model ()\">function(\u001b[0;34;4m|prompt:///|(0,20,<1,0>,<1,20>)\u001b[m)</pre></div>"
      ]
     },
     "execution_count": 9,
     "metadata": {},
     "output_type": "execute_result"
    }
   ],
   "source": [
    "Model init() = 37.0;"
   ]
  },
  {
   "cell_type": "code",
   "execution_count": 10,
   "metadata": {},
   "outputs": [
    {
     "data": {
      "text/html": [
       "<div><pre title=\"Type: void (Model)\">function(\u001b[0;34;4m|prompt:///|(0,287,<1,0>,<13,1>)\u001b[m)</pre></div>"
      ]
     },
     "execution_count": 10,
     "metadata": {},
     "output_type": "execute_result"
    }
   ],
   "source": [
    "void view(Model m) { \n",
    "  div(() {\n",
    "    h2(\"Celsius to fahrenheit converter\");\n",
    "    p(() {\n",
    "      text(\"C: \"); \n",
    "      input(\\value(\"<round(m)>\"),\\type(\"text\"), onInput(c));\n",
    "    });\n",
    "    p(() {\n",
    "      text(\"F: \");\n",
    "      input(\\value(\"<round(toF(m))>\"),\\type(\"text\"), onInput(f));\n",
    "    });\n",
    "  });\n",
    "}"
   ]
  },
  {
   "cell_type": "code",
   "execution_count": 11,
   "metadata": {},
   "outputs": [
    {
     "data": {
      "text/html": [
       "<div><pre title=\"Type: real (real)\">function(\u001b[0;34;4m|prompt:///|(0,38,<1,0>,<1,38>)\u001b[m)</pre></div>"
      ]
     },
     "execution_count": 11,
     "metadata": {},
     "output_type": "execute_result"
    }
   ],
   "source": [
    "real toF(real c) = c * 9.0/5.0 + 32.0;"
   ]
  },
  {
   "cell_type": "code",
   "execution_count": 12,
   "metadata": {},
   "outputs": [
    {
     "data": {
      "text/html": [
       "<div><pre title=\"Type: real (real)\">function(\u001b[0;34;4m|prompt:///|(0,40,<1,0>,<1,40>)\u001b[m)</pre></div>"
      ]
     },
     "execution_count": 12,
     "metadata": {},
     "output_type": "execute_result"
    }
   ],
   "source": [
    "real toC(real f) = (f - 32.0) * 5.0/9.0;"
   ]
  },
  {
   "cell_type": "code",
   "execution_count": 13,
   "metadata": {},
   "outputs": [
    {
     "data": {
      "text/html": [
       "<div><pre title=\"Type: real (str)\">function(\u001b[0;34;4m|prompt:///|(0,100,<1,0>,<7,1>)\u001b[m)</pre></div>"
      ]
     },
     "execution_count": 13,
     "metadata": {},
     "output_type": "execute_result"
    }
   ],
   "source": [
    "real toReal_(str s) {\n",
    "  try {\n",
    "    return toReal(s);\n",
    "  }\n",
    "  catch IllegalArgument():\n",
    "    return 0.0;\n",
    "}"
   ]
  },
  {
   "cell_type": "code",
   "execution_count": 14,
   "metadata": {},
   "outputs": [
    {
     "data": {
      "text/html": [
       "<div><pre title=\"Type: real (Msg, Model)\">function(\u001b[0;34;4m|prompt:///|(0,165,<1,0>,<7,1>)\u001b[m)</pre></div>"
      ]
     },
     "execution_count": 14,
     "metadata": {},
     "output_type": "execute_result"
    }
   ],
   "source": [
    "real update(Msg msg, Model model) {\n",
    "  switch (msg) {\n",
    "    case c(str new): model = toReal_(new);\n",
    "    case f(str new): model = toC(toReal_(new));\n",
    "  }\n",
    "  return model;\n",
    "}"
   ]
  },
  {
   "cell_type": "markdown",
   "metadata": {},
   "source": [
    "# Render Application"
   ]
  },
  {
   "cell_type": "code",
   "execution_count": 15,
   "metadata": {},
   "outputs": [
    {
     "data": {
      "text/html": [
       "<script>var id2 = new Salix('id2', 'http://localhost:3535');google.charts.load('current', {'packages':['corechart']});google.charts.setOnLoadCallback(function () { registerCharts(id2);\n",
       " registerDagre(id2); \n",
       " registerTreeView(id2); \n",
       "id2.start();});</script><div id=\"id2\"></div>"
      ]
     },
     "execution_count": 15,
     "metadata": {},
     "output_type": "execute_result"
    }
   ],
   "source": [
    "visualizationServer.consumer(makeApp(init, view, update), \"id2\");"
   ]
  },
  {
   "cell_type": "code",
   "execution_count": 16,
   "metadata": {},
   "outputs": [
    {
     "name": "stderr",
     "output_type": "stream",
     "text": [
      "\u001b[0;34;4m|prompt:///|(0,3,<1,0>,<1,3>)\u001b[m: Undeclared variable: aew\n",
      "Advice: |http://tutor.rascal-mpl.org/Errors/Static/UndeclaredVariable/UndeclaredVariable.html|\n"
     ]
    },
    {
     "data": {
      "text/html": [
       "ok\n"
      ]
     },
     "execution_count": 16,
     "metadata": {},
     "output_type": "execute_result"
    }
   ],
   "source": [
    "aew+esd;"
   ]
  },
  {
   "cell_type": "code",
   "execution_count": 17,
   "metadata": {},
   "outputs": [
    {
     "name": "stderr",
     "output_type": "stream",
     "text": [
      "\u001b[0;34;4m|prompt:///|(0,3,<1,0>,<1,3>)\u001b[m: Undeclared variable: aew\n",
      "Advice: |http://tutor.rascal-mpl.org/Errors/Static/UndeclaredVariable/UndeclaredVariable.html|\n"
     ]
    },
    {
     "data": {
      "text/html": [
       "ok\n"
      ]
     },
     "execution_count": 17,
     "metadata": {},
     "output_type": "execute_result"
    }
   ],
   "source": [
    "aew+esd;"
   ]
  },
  {
   "cell_type": "code",
   "execution_count": null,
   "metadata": {},
   "outputs": [],
   "source": []
  }
 ],
 "metadata": {
  "kernelspec": {
   "display_name": "Rascal",
   "language": "Rascal",
   "name": "rascal-local"
  },
  "language_info": {
   "codemirror_mode": {
    "name": "rascal"
   },
   "file_extension": ".rsc",
   "mimetype": "text/x-rascal",
   "name": "Rascal",
   "version": "1.8.0_77"
  }
 },
 "nbformat": 4,
 "nbformat_minor": 2
}
