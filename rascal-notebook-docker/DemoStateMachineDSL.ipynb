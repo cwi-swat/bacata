{
 "cells": [
  {
   "cell_type": "markdown",
   "id": "confident-williams",
   "metadata": {},
   "source": [
    "# Demo of a State Machine DSL in Rascal\n",
    "\n",
    "In this demo we:\n",
    "\n",
    "1. first define the syntax of a state machine DSL \n",
    "2. then implement a static analysis of state machine definitions (unreachable states)\n",
    "3. and finally define a Java source code generator which implements the state machines"
   ]
  },
  {
   "cell_type": "markdown",
   "id": "natural-weekly",
   "metadata": {},
   "source": [
    "Let's first define the syntax of this DSL."
   ]
  },
  {
   "cell_type": "code",
   "execution_count": null,
   "id": "blessed-generation",
   "metadata": {},
   "outputs": [],
   "source": [
    "syntax State = \"state\" Id name Trans* out;"
   ]
  },
  {
   "cell_type": "markdown",
   "id": "unusual-adapter",
   "metadata": {},
   "source": [
    "A state uses `Id` and `Trans` which we still need to define:"
   ]
  },
  {
   "cell_type": "code",
   "execution_count": null,
   "id": "minor-medication",
   "metadata": {},
   "outputs": [],
   "source": [
    "lexical Id = [A-Za-z][A-Za-z0-9]*;"
   ]
  },
  {
   "cell_type": "code",
   "execution_count": null,
   "id": "isolated-overall",
   "metadata": {},
   "outputs": [],
   "source": [
    "syntax Trans = Id event \":\" Id to;"
   ]
  },
  {
   "cell_type": "markdown",
   "id": "transparent-rebecca",
   "metadata": {},
   "source": [
    "Now we have a full definition of the grammar for `State`, however Rascal also requires us to define the whitespace in between all the other tokens:"
   ]
  },
  {
   "cell_type": "code",
   "execution_count": null,
   "id": "lyric-drive",
   "metadata": {},
   "outputs": [],
   "source": [
    "layout Whitespace = [\\ \\n\\r\\t]*;"
   ]
  },
  {
   "cell_type": "markdown",
   "id": "matched-dealer",
   "metadata": {},
   "source": [
    "And, we need a vehicle to define many states and their transitions, so we finally define a container called `Machine`:"
   ]
  },
  {
   "cell_type": "code",
   "execution_count": null,
   "id": "revolutionary-cooperative",
   "metadata": {},
   "outputs": [],
   "source": [
    "syntax Machine = State+ states;"
   ]
  },
  {
   "cell_type": "markdown",
   "id": "identical-testing",
   "metadata": {},
   "source": [
    "Let's give the parser a spin..."
   ]
  },
  {
   "cell_type": "code",
   "execution_count": null,
   "id": "waiting-assault",
   "metadata": {},
   "outputs": [],
   "source": [
    "example = \"state Start \n",
    "          '  onClick: Selected\n",
    "          'state Selected:\n",
    "          '  onClick: Start\";"
   ]
  },
  {
   "cell_type": "code",
   "execution_count": null,
   "id": "constitutional-object",
   "metadata": {},
   "outputs": [],
   "source": [
    "tree = [Machine] example;"
   ]
  },
  {
   "cell_type": "code",
   "execution_count": null,
   "id": "lined-shadow",
   "metadata": {},
   "outputs": [],
   "source": []
  }
 ],
 "metadata": {
  "kernelspec": {
   "display_name": "Rascal",
   "language": "Rascal",
   "name": "rascal"
  }
 },
 "nbformat": 4,
 "nbformat_minor": 5
}
