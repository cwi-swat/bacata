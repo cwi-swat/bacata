{
 "cells": [],
 "metadata": {
  "kernelspec": {
   "display_name": "Rascal",
   "language": "Rascal",
   "name": "rascal"
  },
  "language_info": {
   "codemirror_mode": {
    "name": "rascal"
   },
   "file_extension": ".rsc",
   "mimetype": "text/plain",
   "name": "rascal",
   "version": "0.19.3-SNAPSHOT"
  }
 },
 "nbformat": 4,
 "nbformat_minor": 5
}
