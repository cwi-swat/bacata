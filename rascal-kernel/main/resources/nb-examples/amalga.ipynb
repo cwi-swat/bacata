{
 "cells": [
  {
   "cell_type": "code",
   "execution_count": null,
   "metadata": {
    "collapsed": true
   },
   "outputs": [],
   "source": [
    "module execution\n",
    "\n",
    "function levelMask(img<int32_t> param[x,y,c]):\n",
    "\tr[x] -> randomInt();\n",
    "\t\n",
    "\tlevel[x,y,c] -> do:\n",
    "\t\tif c==2 || c==0\n",
    "\t\t\tif param[x,y,c] == 67\n",
    "\t\t\t\tif r[x]==1 \n",
    "\t\t\t\t\t10\n",
    "\t\t\t\telse\n",
    "\t\t\t\t\t30\n",
    "\t\t\t\tend\t\n",
    "\t\t\telse\n",
    "\t\t\t\tparam[x,y,c]\n",
    "\t\t\tend\t\n",
    "\t\telse\n",
    "\t\t\tif param[x,y,c] == 67 && (r[x]==10)\n",
    "\t\t\t\t10\n",
    "\t\t\telse\n",
    "\t\t\t\tparam[x,y,c]\n",
    "\t\t\tend\n",
    "\t\tend\n",
    "\tod;\n",
    "\treturn level;\n",
    "end\n",
    "\n",
    "exec tst1{\n",
    "\timg<int32_t> img1= loadImage(\"images/rgb.png\");\n",
    "\timg<int32_t> output = run(levelMask(img1), img1.width(), img1.height(), img1.channels());\n",
    "\tsave(output, \"images/levelOutput.png\");\n",
    "\t##renderImage(output);\n",
    "\t##assert output != input;\n",
    "}\n",
    "\n",
    "exec test2{\n",
    "\timg<int32_t> img2= loadImage(\"images/gray.png\");\n",
    "\timg<int32_t> output2 = run(levelMask(img2), img2.width(), img2.height(), img2.channels());\n",
    "\tsave(output2, \"images/output/levelOutput2.png\");\n",
    "}"
   ]
  }
 ],
 "metadata": {
  "kernelspec": {
   "display_name": "Rascal Kernel",
   "language": "java",
   "name": "javakernel"
  },
  "language_info": {
   "codemirror_mode": {
    "name": "rascal"
   },
   "file_extension": ".rsc",
   "mimetype": "text/x-rascal",
   "name": "Rascal",
   "version": "1.8.0_77"
  }
 },
 "nbformat": 4,
 "nbformat_minor": 2
}
