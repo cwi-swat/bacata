{
 "cells": [
  {
   "cell_type": "code",
   "execution_count": 1,
   "metadata": {},
   "outputs": [
    {
     "data": {
      "text/plain": [
       "int: 2\n"
      ]
     },
     "execution_count": 1,
     "metadata": {},
     "output_type": "execute_result"
    }
   ],
   "source": [
    "1+1;"
   ]
  },
  {
   "cell_type": "code",
   "execution_count": 1,
   "metadata": {},
   "outputs": [
    {
     "data": {
      "text/html": [
       "int: 4\n"
      ]
     },
     "execution_count": 1,
     "metadata": {},
     "output_type": "execute_result"
    }
   ],
   "source": [
    "2+2;"
   ]
  },
  {
   "cell_type": "code",
   "execution_count": 1,
   "metadata": {},
   "outputs": [
    {
     "data": {
      "text/html": [
       "<h1>int: 10\n",
       "</h1>"
      ]
     },
     "execution_count": 1,
     "metadata": {},
     "output_type": "execute_result"
    }
   ],
   "source": [
    "5+5;"
   ]
  },
  {
   "cell_type": "code",
   "execution_count": 1,
   "metadata": {},
   "outputs": [
    {
     "data": {
      "text/html": [
       "<pre title=\"int\">25</pre>"
      ]
     },
     "execution_count": 1,
     "metadata": {},
     "output_type": "execute_result"
    }
   ],
   "source": [
    "23+2;"
   ]
  },
  {
   "cell_type": "code",
   "execution_count": 13,
   "metadata": {},
   "outputs": [
    {
     "data": {
      "text/html": [
       "<pre title=\"Type: int (int)\">int fac(int);</pre>"
      ]
     },
     "execution_count": 13,
     "metadata": {},
     "output_type": "execute_result"
    }
   ],
   "source": [
    "int fac(int n) {\n",
    "    if (n <= 0) return 1;\n",
    "    return fac(n-1) * n;\n",
    "}"
   ]
  },
  {
   "cell_type": "code",
   "execution_count": 3,
   "metadata": {},
   "outputs": [
    {
     "name": "stderr",
     "output_type": "stream",
     "text": [
      "|prompt:///|(0,7,<1,0>,<1,7>): Undeclared variable: println\n",
      "Advice: |http://tutor.rascal-mpl.org/Errors/Static/UndeclaredVariable/UndeclaredVariable.html|\n",
      "\n"
     ]
    },
    {
     "data": {},
     "execution_count": 3,
     "metadata": {},
     "output_type": "execute_result"
    }
   ],
   "source": [
    "println(\"hola\");"
   ]
  },
  {
   "cell_type": "code",
   "execution_count": null,
   "metadata": {
    "collapsed": true
   },
   "outputs": [],
   "source": [
    "import IO;"
   ]
  },
  {
   "cell_type": "code",
   "execution_count": 1,
   "metadata": {},
   "outputs": [
    {
     "data": {
      "text/html": [
       "<pre title=\"int\">1</pre>"
      ]
     },
     "execution_count": 1,
     "metadata": {},
     "output_type": "execute_result"
    }
   ],
   "source": [
    "1"
   ]
  },
  {
   "cell_type": "code",
   "execution_count": 5,
   "metadata": {},
   "outputs": [
    {
     "data": {
      "text/html": [
       "<pre title=\"Type: str\">\"HOLA\"</pre>\n"
      ]
     },
     "execution_count": 5,
     "metadata": {},
     "output_type": "execute_result"
    }
   ],
   "source": [
    "\"HOLA\";"
   ]
  },
  {
   "cell_type": "code",
   "execution_count": 4,
   "metadata": {},
   "outputs": [
    {
     "data": {
      "text/html": [
       "<pre title=\"Type: int (int)\">int g(int);</pre>\n"
      ]
     },
     "execution_count": 4,
     "metadata": {},
     "output_type": "execute_result"
    }
   ],
   "source": [
    "int g(int n) = n<=1? 1 : n * g(n-1);"
   ]
  },
  {
   "cell_type": "code",
   "execution_count": 4,
   "metadata": {},
   "outputs": [
    {
     "data": {
      "text/html": [
       "<pre title=\"int\">93326215443944152681699238856266700490715968264381621468592963895217599993229915608941463976156518286253697920827223758251185210916864000000000000000000000000</pre>"
      ]
     },
     "execution_count": 4,
     "metadata": {},
     "output_type": "execute_result"
    }
   ],
   "source": [
    "g(100)"
   ]
  },
  {
   "cell_type": "code",
   "execution_count": 7,
   "metadata": {},
   "outputs": [
    {
     "data": {
      "text/html": [
       "<pre title=\"Type: loc\"><a href=\"http://www.google.com\">http://www.google.com</a></pre>"
      ]
     },
     "execution_count": 7,
     "metadata": {},
     "output_type": "execute_result"
    }
   ],
   "source": [
    "|http://www.google.com|"
   ]
  },
  {
   "cell_type": "code",
   "execution_count": 1,
   "metadata": {},
   "outputs": [
    {
     "data": {
      "text/html": [
       "<pre title=\"Type: int\">12</pre>"
      ]
     },
     "execution_count": 1,
     "metadata": {},
     "output_type": "execute_result"
    }
   ],
   "source": [
    "1+11"
   ]
  },
  {
   "cell_type": "code",
   "execution_count": 2,
   "metadata": {
    "collapsed": true
   },
   "outputs": [],
   "source": [
    "import IO;"
   ]
  },
  {
   "cell_type": "code",
   "execution_count": 3,
   "metadata": {},
   "outputs": [
    {
     "name": "stdout",
     "output_type": "stream",
     "text": [
      "12\n"
     ]
    },
    {
     "data": {},
     "execution_count": 3,
     "metadata": {},
     "output_type": "execute_result"
    }
   ],
   "source": [
    "println(12);"
   ]
  },
  {
   "cell_type": "code",
   "execution_count": 3,
   "metadata": {},
   "outputs": [
    {
     "name": "stdout",
     "output_type": "stream",
     "text": [
      "12\n"
     ]
    }
   ],
   "source": [
    "println(12);"
   ]
  },
  {
   "cell_type": "code",
   "execution_count": 4,
   "metadata": {
    "collapsed": true
   },
   "outputs": [],
   "source": [
    "|hola|"
   ]
  },
  {
   "cell_type": "code",
   "execution_count": 5,
   "metadata": {},
   "outputs": [
    {
     "data": {
      "text/html": [
       "<pre title=\"Type: loc\"><a href=\"http://www.psv.nl\">http://www.psv.nl</a></pre>"
      ]
     },
     "execution_count": 5,
     "metadata": {},
     "output_type": "execute_result"
    }
   ],
   "source": [
    "|http://www.psv.nl|"
   ]
  },
  {
   "cell_type": "code",
   "execution_count": 6,
   "metadata": {},
   "outputs": [
    {
     "data": {
      "text/html": [
       "<pre title=\"Type: int\">2</pre>"
      ]
     },
     "execution_count": 6,
     "metadata": {},
     "output_type": "execute_result"
    }
   ],
   "source": [
    "1+1;"
   ]
  },
  {
   "cell_type": "code",
   "execution_count": 9,
   "metadata": {},
   "outputs": [
    {
     "name": "stdout",
     "output_type": "stream",
     "text": [
      "7\n"
     ]
    }
   ],
   "source": [
    "println(3+4);"
   ]
  },
  {
   "cell_type": "code",
   "execution_count": 10,
   "metadata": {},
   "outputs": [
    {
     "name": "stderr",
     "output_type": "stream",
     "text": [
      "|prompt:///|(0,8,<1,0>,<1,8>): Undeclared variable: printl3n\n",
      "Advice: |http://tutor.rascal-mpl.org/Errors/Static/UndeclaredVariable/UndeclaredVariable.html|\n",
      "\n"
     ]
    }
   ],
   "source": [
    "printl3n(4+4)"
   ]
  },
  {
   "cell_type": "code",
   "execution_count": 3,
   "metadata": {
    "collapsed": true
   },
   "outputs": [],
   "source": [
    "void fac() {\n",
    "    1+1;\n",
    "}"
   ]
  },
  {
   "cell_type": "code",
   "execution_count": 6,
   "metadata": {
    "collapsed": true
   },
   "outputs": [],
   "source": [
    "int g(int n) = n<=1? 1 : n * g(n-1);"
   ]
  },
  {
   "cell_type": "code",
   "execution_count": 1,
   "metadata": {},
   "outputs": [
    {
     "data": {
      "text/html": [
       "<pre title=\"Type: int\">2</pre>"
      ]
     },
     "execution_count": 1,
     "metadata": {},
     "output_type": "execute_result"
    }
   ],
   "source": [
    "1+1;"
   ]
  },
  {
   "cell_type": "code",
   "execution_count": 7,
   "metadata": {},
   "outputs": [
    {
     "data": {
      "text/html": [
       "<pre title=\"Type: int\">2</pre>"
      ]
     },
     "execution_count": 7,
     "metadata": {},
     "output_type": "execute_result"
    }
   ],
   "source": [
    "g(2);"
   ]
  },
  {
   "cell_type": "code",
   "execution_count": 6,
   "metadata": {
    "collapsed": true
   },
   "outputs": [],
   "source": [
    "import IO;"
   ]
  },
  {
   "cell_type": "code",
   "execution_count": 7,
   "metadata": {},
   "outputs": [
    {
     "name": "stdout",
     "output_type": "stream",
     "text": [
      "hola\n"
     ]
    }
   ],
   "source": [
    "println(\"hola\");"
   ]
  },
  {
   "cell_type": "code",
   "execution_count": 1,
   "metadata": {},
   "outputs": [
    {
     "data": {
      "text/html": [
       "<pre title=\"Type: int\">2</pre>"
      ]
     },
     "execution_count": 1,
     "metadata": {},
     "output_type": "execute_result"
    }
   ],
   "source": [
    "1+1;"
   ]
  },
  {
   "cell_type": "code",
   "execution_count": 17,
   "metadata": {},
   "outputs": [
    {
     "data": {
      "text/html": [
       "<pre title=\"Type: loc\"><a href=\"file://example.txt\">file://example.txt</a></pre>"
      ]
     },
     "execution_count": 17,
     "metadata": {},
     "output_type": "execute_result"
    }
   ],
   "source": [
    "|file://example.txt|"
   ]
  },
  {
   "cell_type": "code",
   "execution_count": 13,
   "metadata": {
    "collapsed": true
   },
   "outputs": [],
   "source": [
    "loc getImage(loc path)= path;"
   ]
  },
  {
   "cell_type": "code",
   "execution_count": 16,
   "metadata": {},
   "outputs": [
    {
     "data": {
      "text/html": [
       "<img src = \"./bogota.jpg \">"
      ]
     },
     "execution_count": 16,
     "metadata": {},
     "output_type": "execute_result"
    }
   ],
   "source": [
    "getImage(|file://bogota.jpg|);"
   ]
  },
  {
   "cell_type": "code",
   "execution_count": 5,
   "metadata": {},
   "outputs": [
    {
     "data": {
      "text/html": [
       "<pre title=\"Type: int\">2</pre>"
      ]
     },
     "execution_count": 5,
     "metadata": {},
     "output_type": "execute_result"
    }
   ],
   "source": [
    "1+1;"
   ]
  },
  {
   "cell_type": "code",
   "execution_count": 9,
   "metadata": {
    "collapsed": true
   },
   "outputs": [],
   "source": [
    "import IO;"
   ]
  },
  {
   "cell_type": "code",
   "execution_count": 10,
   "metadata": {
    "collapsed": true
   },
   "outputs": [],
   "source": [
    "loc printText(loc path){\n",
    "    appendToFile(path, \"Nemo enim ipsam voluptatem, quia voluptas sit, aspernatur aut odit aut fugit, sed quia consequuntur magni dolores eos, qui ratione voluptatem sequi nesciunt, neque porro quisquam est, qui dolorem ipsum\");\n",
    "    return path;\n",
    "}"
   ]
  },
  {
   "cell_type": "code",
   "execution_count": 12,
   "metadata": {},
   "outputs": [
    {
     "name": "stderr",
     "output_type": "stream",
     "text": [
      "|std:///IO.rsc|(2298,842,<70,0>,<93,43>): PathNotFound(|file://./example.txt|)\n",
      "\tat *** somewhere ***(|std:///IO.rsc|(2298,842,<70,0>,<93,43>))\n",
      "\tat appendToFile(|prompt:///|(48,203,<2,23>,<2,226>))\n",
      "\tat $shell$(|prompt:///|(0,34,<1,0>,<1,34>))\n",
      "\n",
      "\n"
     ]
    }
   ],
   "source": [
    "printText(|file://example.txt|);"
   ]
  },
  {
   "cell_type": "code",
   "execution_count": 1,
   "metadata": {
    "collapsed": true
   },
   "outputs": [],
   "source": [
    "|data:image/jpeg;base64,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|"
   ]
  },
  {
   "cell_type": "code",
   "execution_count": 2,
   "metadata": {},
   "outputs": [
    {
     "data": {
      "text/html": [
       "<pre title=\"Type: int\">2</pre>"
      ]
     },
     "execution_count": 2,
     "metadata": {},
     "output_type": "execute_result"
    }
   ],
   "source": [
    "1+1;"
   ]
  },
  {
   "cell_type": "code",
   "execution_count": 1,
   "metadata": {},
   "outputs": [
    {
     "data": {
      "text/html": [
       "<pre title=\"Type: int\">2</pre>"
      ]
     },
     "execution_count": 1,
     "metadata": {},
     "output_type": "execute_result"
    }
   ],
   "source": [
    "1+1;"
   ]
  },
  {
   "cell_type": "code",
   "execution_count": 5,
   "metadata": {},
   "outputs": [
    {
     "data": {
      "text/html": [
       "<script>loadTiffImage('./pastedGraphic.tiff', 'pastedGraphictiff');</script><div id='pastedGraphictiff'></div>"
      ]
     },
     "execution_count": 5,
     "metadata": {},
     "output_type": "execute_result"
    }
   ],
   "source": [
    "|file://pastedGraphic.tiff|"
   ]
  },
  {
   "cell_type": "code",
   "execution_count": null,
   "metadata": {
    "collapsed": true
   },
   "outputs": [],
   "source": []
  }
 ],
 "metadata": {
  "kernelspec": {
   "display_name": "Rascal Kernel",
   "language": "java",
   "name": "javakernel"
  },
  "language_info": {
   "codemirror_mode": {
    "name": "rascal"
   },
   "file_extension": ".rsc",
   "mimetype": "text/x-rascal",
   "name": "Rascal",
   "version": "1.8.0_77"
  }
 },
 "nbformat": 4,
 "nbformat_minor": 2
}
