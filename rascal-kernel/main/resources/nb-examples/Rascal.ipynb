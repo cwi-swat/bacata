{
 "cells": [
  {
   "cell_type": "code",
   "execution_count": null,
   "metadata": {
    "collapsed": true
   },
   "outputs": [],
   "source": [
    "module lang::amalga::Syntax\n",
    "\n",
    "extend lang::amalga::commonSyntax;\n",
    "extend lang::amalga::executionSyntax;\n",
    "\n",
    "start syntax Program = \"module\" Id name Definition* definitions ExecutionScenario+ executionScenarios;\n",
    "   \n",
    "syntax Definition \n",
    "\t= @Foldable func: \"function\" Id functionName \"(\" {Parameter \",\"}* params \")\" \":\" Expression+ body \"end\"\n",
    "\t| var:  Type typ Id id \"=\" Exp exp\n",
    "\t| prim: \"primitive\" Type return Id id \"(\" {Parameter \",\"}* params \")\" \";\"\n",
    "  \t;\n",
    "\n",
    "syntax Exp \n",
    "\t= @Foldable condIf:  \"if\" Exp cond Exp then \"else\" Exp elsePart \"end\"\n",
    "\t| @Foldable forLoop: \"for\" \"x\" \":\" Exp xRange \",\" \"y\" \":\" Exp yRange \",\" \"c\" \":\" Exp colorRange Exp body \n",
    "\t| newImage: Id id \"[\" \"x\" \":\" Exp xRange \",\" \"y\" \":\" Exp yRange \",\" \"c\" \":\" Exp colorRange \"]\" \"=\" Exp body \n",
    "\t| implicitLoop: Exp name \"-\\>\" Exp body\n",
    "\t| block: \"do\" \":\" Exp+ body \"od\"\n",
    "\t> ite: Exp cond \"?\" Exp then \":\" Exp else\n",
    "\t;\n",
    "\n",
    "syntax Parameter = Type type Exp name;\n",
    "\n",
    "\n",
    "function(){\n",
    "    \n",
    "}"
   ]
  }
 ],
 "metadata": {
  "kernelspec": {
   "display_name": "Rascal Kernel",
   "language": "java",
   "name": "javakernel"
  },
  "language_info": {
   "codemirror_mode": {
    "name": "rascal"
   },
   "file_extension": ".rsc",
   "mimetype": "text/x-rascal",
   "name": "Rascal",
   "version": "1.8.0_77"
  }
 },
 "nbformat": 4,
 "nbformat_minor": 2
}
