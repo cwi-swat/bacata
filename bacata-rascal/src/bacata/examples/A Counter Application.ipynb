{
 "cells": [
  {
   "cell_type": "code",
   "execution_count": 1,
   "metadata": {},
   "outputs": [],
   "source": [
    "import bacata::visualization::Visualization;"
   ]
  },
  {
   "cell_type": "code",
   "execution_count": 2,
   "metadata": {},
   "outputs": [],
   "source": [
    "import salix::App;"
   ]
  },
  {
   "cell_type": "code",
   "execution_count": 3,
   "metadata": {},
   "outputs": [],
   "source": [
    "import salix::HTML;"
   ]
  },
  {
   "cell_type": "code",
   "execution_count": 4,
   "metadata": {},
   "outputs": [],
   "source": [
    "import String;"
   ]
  },
  {
   "cell_type": "code",
   "execution_count": 5,
   "metadata": {},
   "outputs": [],
   "source": [
    " alias Model = tuple[int count];"
   ]
  },
  {
   "cell_type": "code",
   "execution_count": 6,
   "metadata": {},
   "outputs": [
    {
     "data": {
      "text/html": [
       "<div><pre title=\"Type: Model ()\">function(\u001b[0;34;4m|prompt:///|(1,19,<1,1>,<1,20>)\u001b[m)</pre></div>"
      ]
     },
     "execution_count": 6,
     "metadata": {},
     "output_type": "execute_result"
    }
   ],
   "source": [
    " Model init() = <0>;"
   ]
  },
  {
   "cell_type": "markdown",
   "metadata": {},
   "source": [
    "The model is changed by interpreting messages. In Salix, all messages are of the `Msg` type. Other components might extend the same algebraic data type `Msg` for their own purposes. Here we have two messages: one to increment the counter and one to decrement it."
   ]
  },
  {
   "cell_type": "code",
   "execution_count": 7,
   "metadata": {},
   "outputs": [],
   "source": [
    "data Msg \n",
    "    = inc() \n",
    "    | dec();"
   ]
  },
  {
   "cell_type": "markdown",
   "metadata": {},
   "source": [
    "The evaluator (conventionally called update) can be implemented as follows:"
   ]
  },
  {
   "cell_type": "code",
   "execution_count": 8,
   "metadata": {},
   "outputs": [
    {
     "data": {
      "text/html": [
       "<div><pre title=\"Type: Model (Msg, Model)\">function(\u001b[0;34;4m|prompt:///|(0,127,<1,0>,<7,1>)\u001b[m)</pre></div>"
      ]
     },
     "execution_count": 8,
     "metadata": {},
     "output_type": "execute_result"
    }
   ],
   "source": [
    "Model update(Msg msg, Model m) {\n",
    "  switch (msg) {\n",
    "    case inc(): m.count += 1;\n",
    "    case dec(): m.count -= 1;\n",
    "  }\n",
    "  return m;\n",
    "}"
   ]
  },
  {
   "cell_type": "markdown",
   "metadata": {},
   "source": [
    "Note that the `+=` and `-=` notation seems to suggest we're doing in-place mutation of the model here, this is not the case (even if the model is a tuple or constructor): Rascal's assignments will create a new model and assign it to the model variable."
   ]
  },
  {
   "cell_type": "markdown",
   "metadata": {},
   "source": [
    "With the model and the `update` function in place, we can now define a view as follows:"
   ]
  },
  {
   "cell_type": "code",
   "execution_count": 9,
   "metadata": {},
   "outputs": [
    {
     "data": {
      "text/html": [
       "<div><pre title=\"Type: void (Model)\">function(\u001b[0;34;4m|prompt:///|(0,169,<1,0>,<8,1>)\u001b[m)</pre></div>"
      ]
     },
     "execution_count": 9,
     "metadata": {},
     "output_type": "execute_result"
    }
   ],
   "source": [
    "void view(Model m) {\n",
    "  div(() {\n",
    "    h2(\"My first counter app in Rascal\");\n",
    "    button(onClick(inc()), \"+\");\n",
    "    div(\"<m.count>\");\n",
    "    button(onClick(dec()), \"-\");\n",
    "  });\n",
    "}"
   ]
  },
  {
   "cell_type": "markdown",
   "metadata": {},
   "source": [
    "A few notes are in order here. A view in Salix is a function from a model (in this case, of type `Model`) to `void`. Views defined in this style call HTML generating functions defined in the `salix::HTML` module, which are all `void` functions too. Consider the `void` functions as \"drawing\" functions, painting HTML structure on an implicit canvas. This imperative style has the advantage that all regular control-flow constructs of Rascal can be used during view construction. Notice how `void` closures are used to express nesting.\n",
    "\n",
    "The `button` elements receive attributes to setup event-handling. In this case, the `onClick` attribute wraps an `Msg` value to indicate that this message must be sent if the button is clicked. The main render loop will forward such messages to `update` to obtain a new model value, which in turn is used to create the updated view."
   ]
  },
  {
   "cell_type": "code",
   "execution_count": 10,
   "metadata": {},
   "outputs": [
    {
     "data": {
      "text/html": [
       "<div class = \"output_stdout\">Visualization server running: <a href=\"http://localhost:3535\" target=\"_blank\">http://localhost:3535</a><br></div>"
      ]
     },
     "metadata": {
      "text/html": "<div class = \"output_stdout\">Visualization server running: <a href=\"http://localhost:3535\" target=\"_blank\">http://localhost:3535</a><br></div>"
     },
     "output_type": "display_data"
    },
    {
     "data": {
      "text/html": [
       "<div><pre title=\"Type: SalixMultiplexer\"><function(\u001b[0;34;4m|jar:///Users/mveranom/Documents/bacata/bacata-rascal/target/bacata-rascal-0.1.0-SNAPSHOT-jar-with-dependencies.jar!/src/bacata/salix/Bridge.rsc|(1548,81,<57,10>,<60,3>)\u001b[m),function(\u001b[0;34;4m|jar:///Users/mveranom/Documents/bacata/bacata-rascal/target/bacata-rascal-0.1.0-SNAPSHOT-jar-with-dependencies.jar!/src/bacata/salix/Bridge.rsc|(1631,28,<60,5>,<62,3>)\u001b[m),\u001b[0;34;4m|http://localhost:3535|\u001b[m></pre></div>"
      ]
     },
     "execution_count": 10,
     "metadata": {
      "text/html": "<div class = \"output_stdout\">Visualization server running: <a href=\"http://localhost:3535\" target=\"_blank\">http://localhost:3535</a><br></div>"
     },
     "output_type": "execute_result"
    }
   ],
   "source": [
    "vis = visualizationServer();"
   ]
  },
  {
   "cell_type": "code",
   "execution_count": 11,
   "metadata": {},
   "outputs": [
    {
     "data": {
      "text/html": [
       "<script>var id3 = new Salix('id3', 'http://localhost:3535');google.charts.load('current', {'packages':['corechart']});google.charts.setOnLoadCallback(function () { registerCharts(id3);\n",
       " registerDagre(id3); \n",
       " registerTreeView(id3); \n",
       "id3.start();});</script><div id=\"id3\"></div>"
      ]
     },
     "execution_count": 11,
     "metadata": {},
     "output_type": "execute_result"
    }
   ],
   "source": [
    "vis.consumer(makeApp(init, view, update), \"id3\");"
   ]
  },
  {
   "cell_type": "code",
   "execution_count": null,
   "metadata": {},
   "outputs": [],
   "source": []
  }
 ],
 "metadata": {
  "kernelspec": {
   "display_name": "Rascal",
   "language": "Rascal",
   "name": "rascal-local"
  },
  "language_info": {
   "codemirror_mode": {
    "name": "rascal"
   },
   "file_extension": ".rsc",
   "mimetype": "text/x-rascal",
   "name": "Rascal",
   "version": "1.8.0_77"
  }
 },
 "nbformat": 4,
 "nbformat_minor": 2
}
