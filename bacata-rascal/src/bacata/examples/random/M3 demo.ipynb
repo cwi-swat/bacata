{
 "cells": [
  {
   "cell_type": "code",
   "execution_count": 1,
   "metadata": {},
   "outputs": [],
   "source": [
    "import lang::java::m3::Core;"
   ]
  },
  {
   "cell_type": "code",
   "execution_count": 4,
   "metadata": {},
   "outputs": [
    {
     "data": {
      "text/html": [
       "<div><pre title=\"Type: M3\">m3(\n",
       "  \u001b[0;34;4m|cwd:///bacata-core-1.0-SNAPSHOT.jar|\u001b[m,\n",
       "  annotations={<\u001b[0;34;4m|java+field:///entities/ContentDisplayData/transients|\u001b[m,\u001b[0;34;4m|java+interface:///com/google/gson/annotations/SerializedName|\u001b[m>},\n",
       "  typeDependency={\n",
       "    <\u001b[0;34;4m|java+parameter:///server/JupyterServer/processCompleteRequest(communication.Header,entities.request.ContentCompleteRequest,java.util.Map)/param0|\u001b[m,\u001b[0;34;4m|java+class:///communication/Header|\u001b[m>,\n",
       "    <\u001b[0;34;4m|java+field:///communication/Connection/iopubPort|\u001b[m,\u001b[0;34;4m|java+class:///java/lang/Long|\u001b[m>,\n",
       "    <\u001b[0;34;4m|java+field:///entities/reply/ContentIsCompleteReply/status|\u001b[m,\u001b[0;34;4m|java+class:///java/lang/String|\u001b[m>,\n",
       "    <\u001b[0;34;4m|java+parameter:///testImplementations/TestCaseServer/makeInterpreter(java.lang.String,java.lang.String,java.lang.String,java.lang.String%5B%5D)/param0|\u001b[m,\u001b[0;34;4m|java+class:///java/lang/String|\u001b[m>,\n",
       "    <\u001b[0;34;4m|java+field:///testImplementations/TermKernel/language|\u001b[m,\u001b[0;34;4m|java+class:///org/rascalmpl/repl/ILanguageProtocol|\u001b[m>,\n",
       "    <\u001b[0;34;4m|java+parameter:///testImplementations/TestCaseServer/processExecuteResult(communication.Header,java.lang.String,int,java.util.Map)/param2|\u001b[m,\u001b[0;34;4m|java+primitiveType:///int|\u001b[m>,\n",
       "    <\u001b[0;34;4m|java+parameter:///testImplementations/TermKernel/processShutdownRequest(org.zeromq.ZMQ$Socket,communication.Header,entities.request.ContentShutdownRequest,java.util.Map)/param0|\u001b[m,\u001b[0;34;4m|java+class:///org/zeromq/ZMQ$Socket|\u001b[m>,\n",
       "    <\u001b[0;34;4m|java+parameter:///server/JupyterServer/makeInterpreter(java.lang.String,java.lang.String,java.lang.String,java.lang.String%5B%5D)/param1|\u001b[m,\u001b[0;34;4m|java+class:///java/lang/String|\u001b[m>,\n",
       "    <\u001b[0;34;4m|java+method:///entities/reply/ContentCompleteReply/getStatus()|\u001b[m,\u001b[0;34;4m|java+class:///java/lang/String|\u001b[m>,\n",
       "    <\u001b[0;34;4m|java+method:///entities/reply/ContentCompleteReply/getStatus()|\u001b[m,\u001b[0;34;4m|java+class:///entities/reply/ContentCompleteReply|\u001b[m>,\n",
       "    <\u001b[0;34;4m|java+method:///entities/request/ContentExecuteRequest/getUserExpressions()|\u001b[m,\u001b[0;34;4m|java+class:///entities/request/ContentExecuteRequest|\u001b[m>,\n",
       "    <\u001b[0;34;4m|java+method:///entities/request/ContentExecuteRequest/getUserExpressions()|\u001b[m,\u001b[0;34;4m|java+class:///java/util/Map|\u001b[m>,\n",
       "    <\u001b[0;34;4m|java+parameter:///server/JupyterServer/processIsCompleteRequest(communication.Header,entities.request.ContentIsCompleteRequest,java.util.Map)/param0|\u001b[m,\u001b[0;34;4m|java+class:///communication/Header|\u001b[m>,\n",
       "    <\u001b[0;34;4m|java+method:///communication/Connection/getKernelName()|\u001b[m,\u001b[0;34;4m|java+class:///java/lang/String|\u001b[m>,\n",
       "    <\u001b[0;34;4m|java+method:///communication/Connection/getKernelName()|\u001b[m,\u001b[0;34;4m|java+class:///communication/Connection|\u001b[m>,\n",
       "    <\u001b[0;34;4m|java+parameter:///entities/util/HelpLinks/HelpLinks(java.lang.String,java.lang.String)/param0|\u001b[m,\u001b[0;34;4m|java+class:///java/lang/String|\u001b[m>,\n",
       "    <\u001b[0;34;4m|java+method:///testImplementations/TestCaseServer/processShutdownRequest(org.zeromq.ZMQ$Socket,communication.Header,entities.request.ContentShutdownRequest,java.util.Map)|\u001b[m,\u001b[0;34;4m|java+class:///java/lang/System|\u001b[m>,\n",
       "    <\u001b[0;34;4m|java+method:///testImplementations/TestCaseServer/processShutdownRequest(org.zeromq.ZMQ$Socket,communication.Header,entities.request.ContentShutdownRequest,java.util.Map)|\u001b[m,\u001b[0;34;4m|java+class:///testImplementations/TestCaseServer|\u001b[m>,\n",
       "    <\u001b[0;34;4m|java+method:///testImplementations/TestCaseServer/processShutdownRequest(org.zeromq.ZMQ$Socket,communication.Header,entities.request.ContentShutdownRequest,java.util.Map)|\u001b[m,\u001b[0;34;4m|java+class:///communication/Header|\u001b[m>,\n",
       "    <\u001b[0;34;4m|java+method:///testImplementations/TestCaseServer/processShutdownRequest(org.zeromq.ZMQ$Socket,communication.Header,entities.request.ContentShutdownRequest,java.util.Map)|\u001b[m,\u001b[0;34;4m|java+class:///org/zeromq/ZMQ$Context|\u001b[m>,\n",
       "    <\u001b[0;34;4m|java+method:///testImplementations/TestCaseServer/processShutdownRequest(org.zeromq.ZMQ$Socket,communic...</pre></div>"
      ]
     },
     "execution_count": 4,
     "metadata": {},
     "output_type": "execute_result"
    }
   ],
   "source": [
    "m = createM3FromJar(|cwd:///bacata-core-1.0-SNAPSHOT.jar|);"
   ]
  },
  {
   "cell_type": "code",
   "execution_count": 3,
   "metadata": {},
   "outputs": [
    {
     "data": {
      "text/html": [
       "<div><pre title=\"Type: list[loc]\">[\n",
       "  \u001b[0;34;4m|cwd:///.ipynb_checkpoints|\u001b[m,\n",
       "  \u001b[0;34;4m|cwd:///A%20Counter%20Application.ipynb|\u001b[m,\n",
       "  \u001b[0;34;4m|cwd:///bacata-core-1.0-SNAPSHOT.jar|\u001b[m,\n",
       "  \u001b[0;34;4m|cwd:///random%20expressions.ipynb|\u001b[m,\n",
       "  \u001b[0;34;4m|cwd:///Rascal%20+%20Salix.ipynb|\u001b[m,\n",
       "  \u001b[0;34;4m|cwd:///Rascal+Salix%20test.ipynb|\u001b[m,\n",
       "  \u001b[0;34;4m|cwd:///Salix%20Celsius%20converter.ipynb|\u001b[m,\n",
       "  \u001b[0;34;4m|cwd:///Untitled.ipynb|\u001b[m\n",
       "]</pre></div>"
      ]
     },
     "execution_count": 3,
     "metadata": {},
     "output_type": "execute_result"
    }
   ],
   "source": [
    "|cwd:///|.ls"
   ]
  },
  {
   "cell_type": "code",
   "execution_count": 5,
   "metadata": {},
   "outputs": [
    {
     "data": {
      "text/html": [
       "<div><pre title=\"Type: rel[loc from,loc to]\">{\n",
       "  <\u001b[0;34;4m|java+method:///testImplementations/TestCaseServer/processShutdownRequest(org.zeromq.ZMQ$Socket,communication.Header,entities.request.ContentShutdownRequest,java.util.Map)|\u001b[m,\u001b[0;34;4m|java+parameter:///testImplementations/TestCaseServer/processShutdownRequest(org.zeromq.ZMQ$Socket,communication.Header,entities.request.ContentShutdownRequest,java.util.Map)/param0|\u001b[m>,\n",
       "  <\u001b[0;34;4m|java+method:///testImplementations/TestCaseServer/processShutdownRequest(org.zeromq.ZMQ$Socket,communication.Header,entities.request.ContentShutdownRequest,java.util.Map)|\u001b[m,\u001b[0;34;4m|java+parameter:///testImplementations/TestCaseServer/processShutdownRequest(org.zeromq.ZMQ$Socket,communication.Header,entities.request.ContentShutdownRequest,java.util.Map)/param1|\u001b[m>,\n",
       "  <\u001b[0;34;4m|java+method:///testImplementations/TestCaseServer/processShutdownRequest(org.zeromq.ZMQ$Socket,communication.Header,entities.request.ContentShutdownRequest,java.util.Map)|\u001b[m,\u001b[0;34;4m|java+parameter:///testImplementations/TestCaseServer/processShutdownRequest(org.zeromq.ZMQ$Socket,communication.Header,entities.request.ContentShutdownRequest,java.util.Map)/param2|\u001b[m>,\n",
       "  <\u001b[0;34;4m|java+method:///testImplementations/TestCaseServer/processShutdownRequest(org.zeromq.ZMQ$Socket,communication.Header,entities.request.ContentShutdownRequest,java.util.Map)|\u001b[m,\u001b[0;34;4m|java+parameter:///testImplementations/TestCaseServer/processShutdownRequest(org.zeromq.ZMQ$Socket,communication.Header,entities.request.ContentShutdownRequest,java.util.Map)/param3|\u001b[m>,\n",
       "  <\u001b[0;34;4m|java+method:///testImplementations/TestCaseServer/processHistoryRequest(communication.Header,java.util.Map)|\u001b[m,\u001b[0;34;4m|java+parameter:///testImplementations/TestCaseServer/processHistoryRequest(communication.Header,java.util.Map)/param0|\u001b[m>,\n",
       "  <\u001b[0;34;4m|java+method:///testImplementations/TestCaseServer/processHistoryRequest(communication.Header,java.util.Map)|\u001b[m,\u001b[0;34;4m|java+parameter:///testImplementations/TestCaseServer/processHistoryRequest(communication.Header,java.util.Map)/param1|\u001b[m>,\n",
       "  <\u001b[0;34;4m|java+constructor:///server/JupyterServer/JupyterServer(java.lang.String)|\u001b[m,\u001b[0;34;4m|java+parameter:///server/JupyterServer/JupyterServer(java.lang.String)/param0|\u001b[m>,\n",
       "  <\u001b[0;34;4m|java+method:///server/MetaJupyterServer/processIsCompleteRequest(communication.Header,entities.request.ContentIsCompleteRequest,java.util.Map)|\u001b[m,\u001b[0;34;4m|java+parameter:///server/MetaJupyterServer/processIsCompleteRequest(communication.Header,entities.request.ContentIsCompleteRequest,java.util.Map)/param0|\u001b[m>,\n",
       "  <\u001b[0;34;4m|java+method:///server/MetaJupyterServer/processIsCompleteRequest(communication.Header,entities.request.ContentIsCompleteRequest,java.util.Map)|\u001b[m,\u001b[0;34;4m|java+parameter:///server/MetaJupyterServer/processIsCompleteRequest(communication.Header,entities.request.ContentIsCompleteRequest,java.util.Map)/param1|\u001b[m>,\n",
       "  <\u001b[0;34;4m|java+method:///server/MetaJupyterServer/processIsCompleteRequest(communication.Header,entities.request.ContentIsCompleteRequest,java.util.Map)|\u001b[m,\u001b[0;34;4m|java+parameter:///server/MetaJupyterServer/processIsCompleteRequest(communication.Header,entities.request.ContentIsCompleteRequest,java.util.Map)/param2|\u001b[m>,\n",
       "  <\u001b[0;34;4m|java+class:///entities/reply/ContentIsCompleteReply|\u001b[m,\u001b[0;34;4m|java+field:///entities/reply/ContentIsCompleteReply/status|\u001b[m>,\n",
       "  <\u001b[0;34;4m|java+class:///entities/reply/ContentIsCompleteReply|\u001b[m,\u001b[0;34;4m|java+constructor:///entities/reply/ContentIsCompleteReply/ContentIsCompleteReply(java.lang.String,java.lang.String)|\u001b[m>,\n",
       "  <\u001b[0;34;4m|java+class:///entities/reply/ContentIsCompleteReply|\u001b[m,\u001b[0;34;4m|java+field:///entities/reply/ContentIsCompleteReply/indent|\u001b[m>,\n",
       "  <\u001b[0;34;4m|java+method:///server/JupyterServer/signMessage(java.lang.String,java.lang.String,java.lang.String,java.lang.String)|\u001b[m,\u001b[0;34;4m|java+parameter:///server/JupyterServer/signMessage(java.lang.String,java.lang.String,java.lang.String,java.lang.String)/param0|\u001b[m>,\n",
       "  <...</pre></div>"
      ]
     },
     "execution_count": 5,
     "metadata": {},
     "output_type": "execute_result"
    }
   ],
   "source": [
    "m.containment;"
   ]
  },
  {
   "cell_type": "code",
   "execution_count": 6,
   "metadata": {},
   "outputs": [
    {
     "data": {
      "text/html": [
       "<div><pre title=\"Type: void ()\">function(\u001b[0;34;4m|prompt:///|(0,12,<1,0>,<1,12>)\u001b[m)</pre></div>"
      ]
     },
     "execution_count": 6,
     "metadata": {},
     "output_type": "execute_result"
    }
   ],
   "source": [
    "void m(){6;}"
   ]
  },
  {
   "cell_type": "code",
   "execution_count": 8,
   "metadata": {},
   "outputs": [],
   "source": [
    "import Set;"
   ]
  },
  {
   "cell_type": "code",
   "execution_count": 11,
   "metadata": {},
   "outputs": [],
   "source": [
    "import IO;"
   ]
  },
  {
   "cell_type": "code",
   "execution_count": 12,
   "metadata": {},
   "outputs": [
    {
     "name": "stdout",
     "output_type": "stream",
     "text": [
      "|java+method:///testImplementations/TermKernel/processIsCompleteRequest(communication.Header,entities.request.ContentIsCompleteRequest,java.util.Map)|\n"
     ]
    }
   ],
   "source": [
    "println(getOneFrom(m.methodInvocation)[0]);"
   ]
  },
  {
   "cell_type": "code",
   "execution_count": 1,
   "metadata": {},
   "outputs": [
    {
     "name": "stderr",
     "output_type": "stream",
     "text": [
      "            ^ Parse error here"
     ]
    }
   ],
   "source": [
    "  h4(\"The graph\");    \n",
    "    \n",
    "    dagre(\"mygraph\", rankdir(\"LR\"), width(960), height(600), (N n, E e) {\n",
    "      for (str x <- m.graph<0> + m.graph<1>) {\n",
    "        n(x, shape(m.shape), () { \n",
    "          div(() {\n",
    "\t          h3(\"Here\\'s node <x>\");\n",
    "\t          p(\"A paragraph\");\n",
    "\t          \n",
    "\t          salix::demo::charts::ChartDemo::view(m.gold, w = 100, h = 80);\n",
    "            \n",
    "\t          button(onClick(click(x)), \"Click <x>\");\n",
    "\t        });\n",
    "        });\n",
    "      }\n",
    "      for (<str x, str y> <- m.graph) {\n",
    "        e(x, y, lineInterpolate(m.line));\n",
    "      }\n",
    "    }); "
   ]
  },
  {
   "cell_type": "code",
   "execution_count": null,
   "metadata": {},
   "outputs": [],
   "source": []
  }
 ],
 "metadata": {
  "kernelspec": {
   "display_name": "Rascal",
   "language": "Rascal",
   "name": "rascal-local"
  },
  "language_info": {
   "codemirror_mode": {
    "name": "rascal"
   },
   "file_extension": ".rsc",
   "mimetype": "text/x-rascal",
   "name": "Rascal",
   "version": "1.8.0_77"
  }
 },
 "nbformat": 4,
 "nbformat_minor": 2
}
