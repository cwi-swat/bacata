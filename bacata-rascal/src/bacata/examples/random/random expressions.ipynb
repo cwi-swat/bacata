{
 "cells": [
  {
   "cell_type": "code",
   "execution_count": 1,
   "metadata": {},
   "outputs": [
    {
     "data": {
      "text/html": [
       "<div><pre title=\"Type: int\">1</pre></div>"
      ]
     },
     "execution_count": 1,
     "metadata": {},
     "output_type": "execute_result"
    }
   ],
   "source": [
    "1/1;"
   ]
  },
  {
   "cell_type": "code",
   "execution_count": 2,
   "metadata": {},
   "outputs": [
    {
     "data": {
      "text/html": [
       "<div><pre title=\"Type: str\">\"sffds\"</pre></div>"
      ]
     },
     "execution_count": 2,
     "metadata": {},
     "output_type": "execute_result"
    }
   ],
   "source": [
    "str azq= \"sffds\";"
   ]
  },
  {
   "cell_type": "code",
   "execution_count": 5,
   "metadata": {},
   "outputs": [
    {
     "data": {
      "text/html": [
       "ok\n"
      ]
     },
     "execution_count": 5,
     "metadata": {},
     "output_type": "execute_result"
    }
   ],
   "source": [
    "f"
   ]
  },
  {
   "cell_type": "code",
   "execution_count": 2,
   "metadata": {},
   "outputs": [
    {
     "data": {
      "text/html": [
       "<div><pre title=\"Type: int\">2</pre></div>"
      ]
     },
     "execution_count": 2,
     "metadata": {},
     "output_type": "execute_result"
    }
   ],
   "source": [
    "1+1;"
   ]
  },
  {
   "cell_type": "code",
   "execution_count": 7,
   "metadata": {},
   "outputs": [
    {
     "data": {
      "text/html": [
       "<div><pre title=\"Type: int\">5</pre></div>"
      ]
     },
     "execution_count": 7,
     "metadata": {},
     "output_type": "execute_result"
    }
   ],
   "source": [
    "int ga = 5;"
   ]
  },
  {
   "cell_type": "code",
   "execution_count": 2,
   "metadata": {},
   "outputs": [
    {
     "data": {
      "text/html": [
       "<div><pre title=\"Type: str\">\"sffds\"</pre></div>"
      ]
     },
     "execution_count": 2,
     "metadata": {},
     "output_type": "execute_result"
    }
   ],
   "source": [
    "azq"
   ]
  },
  {
   "cell_type": "code",
   "execution_count": 1,
   "metadata": {},
   "outputs": [
    {
     "data": {
      "text/html": [
       "<div><pre title=\"Type: str\">\"fd\"</pre></div>"
      ]
     },
     "execution_count": 1,
     "metadata": {},
     "output_type": "execute_result"
    }
   ],
   "source": [
    "hoint = \"fd\";"
   ]
  },
  {
   "cell_type": "code",
   "execution_count": 2,
   "metadata": {},
   "outputs": [
    {
     "data": {
      "text/html": [
       "<div><pre title=\"Type: rel[str,str]\">{\n",
       "  <\"b\",\"c\">,\n",
       "  <\"a\",\"b\">,\n",
       "  <\"a\",\"c\">\n",
       "}</pre></div>"
      ]
     },
     "execution_count": 2,
     "metadata": {},
     "output_type": "execute_result"
    }
   ],
   "source": [
    "{<\"a\", \"b\">, <\"b\", \"c\">, <\"a\", \"c\">}"
   ]
  },
  {
   "cell_type": "code",
   "execution_count": 3,
   "metadata": {},
   "outputs": [
    {
     "data": {
      "text/html": [
       "<div><pre title=\"Type: set[str]\">{\"a\",\"b\",\"c\",\"g\"}</pre></div>"
      ]
     },
     "execution_count": 3,
     "metadata": {},
     "output_type": "execute_result"
    }
   ],
   "source": [
    "{<\"a\", \"b\">, <\"b\", \"c\">, <\"a\", \"c\">}<0>+{<\"a\", \"b\">, <\"b\", \"c\">, <\"a\", \"g\">}<1>"
   ]
  },
  {
   "cell_type": "code",
   "execution_count": 1,
   "metadata": {},
   "outputs": [],
   "source": [
    "import lang::java::m3::Core;"
   ]
  },
  {
   "cell_type": "code",
   "execution_count": 5,
   "metadata": {},
   "outputs": [],
   "source": [
    "import IO;"
   ]
  },
  {
   "cell_type": "code",
   "execution_count": 2,
   "metadata": {
    "scrolled": true
   },
   "outputs": [
    {
     "data": {
      "text/html": [
       "<div><pre title=\"Type: M3\">m3(\n",
       "  \u001b[0;34;4m|cwd:///bacata-core-1.0-SNAPSHOT.jar|\u001b[m,\n",
       "  annotations={<\u001b[0;34;4m|java+field:///entities/ContentDisplayData/transients|\u001b[m,\u001b[0;34;4m|java+interface:///com/google/gson/annotations/SerializedName|\u001b[m>},\n",
       "  typeDependency={\n",
       "    <\u001b[0;34;4m|java+parameter:///server/JupyterServer/processCompleteRequest(communication.Header,entities.request.ContentCompleteRequest,java.util.Map)/param0|\u001b[m,\u001b[0;34;4m|java+class:///communication/Header|\u001b[m>,\n",
       "    <\u001b[0;34;4m|java+field:///communication/Connection/iopubPort|\u001b[m,\u001b[0;34;4m|java+class:///java/lang/Long|\u001b[m>,\n",
       "    <\u001b[0;34;4m|java+field:///entities/reply/ContentIsCompleteReply/status|\u001b[m,\u001b[0;34;4m|java+class:///java/lang/String|\u001b[m>,\n",
       "    <\u001b[0;34;4m|java+parameter:///testImplementations/TestCaseServer/makeInterpreter(java.lang.String,java.lang.String,java.lang.String,java.lang.String%5B%5D)/param0|\u001b[m,\u001b[0;34;4m|java+class:///java/lang/String|\u001b[m>,\n",
       "    <\u001b[0;34;4m|java+field:///testImplementations/TermKernel/language|\u001b[m,\u001b[0;34;4m|java+class:///org/rascalmpl/repl/ILanguageProtocol|\u001b[m>,\n",
       "    <\u001b[0;34;4m|java+parameter:///testImplementations/TestCaseServer/processExecuteResult(communication.Header,java.lang.String,int,java.util.Map)/param2|\u001b[m,\u001b[0;34;4m|java+primitiveType:///int|\u001b[m>,\n",
       "    <\u001b[0;34;4m|java+parameter:///testImplementations/TermKernel/processShutdownRequest(org.zeromq.ZMQ$Socket,communication.Header,entities.request.ContentShutdownRequest,java.util.Map)/param0|\u001b[m,\u001b[0;34;4m|java+class:///org/zeromq/ZMQ$Socket|\u001b[m>,\n",
       "    <\u001b[0;34;4m|java+parameter:///server/JupyterServer/makeInterpreter(java.lang.String,java.lang.String,java.lang.String,java.lang.String%5B%5D)/param1|\u001b[m,\u001b[0;34;4m|java+class:///java/lang/String|\u001b[m>,\n",
       "    <\u001b[0;34;4m|java+method:///entities/reply/ContentCompleteReply/getStatus()|\u001b[m,\u001b[0;34;4m|java+class:///java/lang/String|\u001b[m>,\n",
       "    <\u001b[0;34;4m|java+method:///entities/reply/ContentCompleteReply/getStatus()|\u001b[m,\u001b[0;34;4m|java+class:///entities/reply/ContentCompleteReply|\u001b[m>,\n",
       "    <\u001b[0;34;4m|java+method:///entities/request/ContentExecuteRequest/getUserExpressions()|\u001b[m,\u001b[0;34;4m|java+class:///entities/request/ContentExecuteRequest|\u001b[m>,\n",
       "    <\u001b[0;34;4m|java+method:///entities/request/ContentExecuteRequest/getUserExpressions()|\u001b[m,\u001b[0;34;4m|java+class:///java/util/Map|\u001b[m>,\n",
       "    <\u001b[0;34;4m|java+parameter:///server/JupyterServer/processIsCompleteRequest(communication.Header,entities.request.ContentIsCompleteRequest,java.util.Map)/param0|\u001b[m,\u001b[0;34;4m|java+class:///communication/Header|\u001b[m>,\n",
       "    <\u001b[0;34;4m|java+method:///communication/Connection/getKernelName()|\u001b[m,\u001b[0;34;4m|java+class:///java/lang/String|\u001b[m>,\n",
       "    <\u001b[0;34;4m|java+method:///communication/Connection/getKernelName()|\u001b[m,\u001b[0;34;4m|java+class:///communication/Connection|\u001b[m>,\n",
       "    <\u001b[0;34;4m|java+parameter:///entities/util/HelpLinks/HelpLinks(java.lang.String,java.lang.String)/param0|\u001b[m,\u001b[0;34;4m|java+class:///java/lang/String|\u001b[m>,\n",
       "    <\u001b[0;34;4m|java+method:///testImplementations/TestCaseServer/processShutdownRequest(org.zeromq.ZMQ$Socket,communication.Header,entities.request.ContentShutdownRequest,java.util.Map)|\u001b[m,\u001b[0;34;4m|java+class:///java/lang/System|\u001b[m>,\n",
       "    <\u001b[0;34;4m|java+method:///testImplementations/TestCaseServer/processShutdownRequest(org.zeromq.ZMQ$Socket,communication.Header,entities.request.ContentShutdownRequest,java.util.Map)|\u001b[m,\u001b[0;34;4m|java+class:///testImplementations/TestCaseServer|\u001b[m>,\n",
       "    <\u001b[0;34;4m|java+method:///testImplementations/TestCaseServer/processShutdownRequest(org.zeromq.ZMQ$Socket,communication.Header,entities.request.ContentShutdownRequest,java.util.Map)|\u001b[m,\u001b[0;34;4m|java+class:///communication/Header|\u001b[m>,\n",
       "    <\u001b[0;34;4m|java+method:///testImplementations/TestCaseServer/processShutdownRequest(org.zeromq.ZMQ$Socket,communication.Header,entities.request.ContentShutdownRequest,java.util.Map)|\u001b[m,\u001b[0;34;4m|java+class:///org/zeromq/ZMQ$Context|\u001b[m>,\n",
       "    <\u001b[0;34;4m|java+method:///testImplementations/TestCaseServer/processShutdownRequest(org.zeromq.ZMQ$Socket,communic...</pre></div>"
      ]
     },
     "execution_count": 2,
     "metadata": {},
     "output_type": "execute_result"
    }
   ],
   "source": [
    "m = createM3FromJar(|cwd:///bacata-core-1.0-SNAPSHOT.jar|);"
   ]
  },
  {
   "cell_type": "code",
   "execution_count": 3,
   "metadata": {
    "scrolled": true
   },
   "outputs": [
    {
     "data": {
      "text/html": [
       "<div><pre title=\"Type: set[loc]\">{\n",
       "  \u001b[0;34;4m|java+method:///communication/Connection/getKernelName()|\u001b[m,\n",
       "  \u001b[0;34;4m|java+method:///testImplementations/TestCaseServer/processShutdownRequest(org.zeromq.ZMQ$Socket,communication.Header,entities.request.ContentShutdownRequest,java.util.Map)|\u001b[m,\n",
       "  \u001b[0;34;4m|java+method:///java/io/StringWriter/getBuffer()|\u001b[m,\n",
       "  \u001b[0;34;4m|java+method:///server/MetaJupyterServer/processIsCompleteRequest(communication.Header,entities.request.ContentIsCompleteRequest,java.util.Map)|\u001b[m,\n",
       "  \u001b[0;34;4m|java+constructor:///server/JupyterServer/JupyterServer(java.lang.String)|\u001b[m,\n",
       "  \u001b[0;34;4m|java+method:///server/JupyterServer/listenSocket(org.zeromq.ZMQ$Socket,java.lang.String)|\u001b[m,\n",
       "  \u001b[0;34;4m|java+method:///server/JupyterServer/signMessage(java.lang.String,java.lang.String,java.lang.String,java.lang.String)|\u001b[m,\n",
       "  \u001b[0;34;4m|java+method:///java/lang/String/hashCode()|\u001b[m,\n",
       "  \u001b[0;34;4m|java+method:///entities/ContentDisplayData/addData(java.lang.String,java.lang.String)|\u001b[m,\n",
       "  \u001b[0;34;4m|java+method:///server/JupyterServer/processShutdownRequest(org.zeromq.ZMQ$Socket,communication.Header,entities.request.ContentShutdownRequest,java.util.Map)|\u001b[m,\n",
       "  \u001b[0;34;4m|java+method:///server/MetaJupyterServer/processCompleteRequest(communication.Header,entities.request.ContentCompleteRequest,java.util.Map)|\u001b[m,\n",
       "  \u001b[0;34;4m|java+method:///org/rascalmpl/interpreter/env/ModuleEnvironment/getSimpleVariable(java.lang.String)|\u001b[m,\n",
       "  \u001b[0;34;4m|java+method:///java/time/ZonedDateTime/now()|\u001b[m,\n",
       "  \u001b[0;34;4m|java+method:///java/lang/Thread/isInterrupted()|\u001b[m,\n",
       "  \u001b[0;34;4m|java+constructor:///org/rascalmpl/repl/RascalInterpreterREPL/RascalInterpreterREPL(boolean)|\u001b[m,\n",
       "  \u001b[0;34;4m|java+constructor:///org/rascalmpl/interpreter/env/GlobalEnvironment/GlobalEnvironment()|\u001b[m,\n",
       "  \u001b[0;34;4m|java+method:///server/MetaJupyterServer/makeInterpreter(java.lang.String,java.lang.String,java.lang.String,java.lang.String%5B%5D)|\u001b[m,\n",
       "  \u001b[0;34;4m|java+constructor:///entities/ContentDisplayData/ContentDisplayData()|\u001b[m,\n",
       "  \u001b[0;34;4m|java+method:///testImplementations/TermKernel/processKernelInfoRequest(communication.Header,java.util.Map)|\u001b[m,\n",
       "  \u001b[0;34;4m|java+constructor:///entities/request/ContentIsCompleteRequest/ContentIsCompleteRequest()|\u001b[m,\n",
       "  \u001b[0;34;4m|java+constructor:///entities/request/ContentCompleteRequest/ContentCompleteRequest()|\u001b[m,\n",
       "  \u001b[0;34;4m|java+method:///testImplementations/TermKernel/getCommunication()|\u001b[m,\n",
       "  \u001b[0;34;4m|java+method:///java/util/Map/put(java.lang.Object,java.lang.Object)|\u001b[m,\n",
       "  \u001b[0;34;4m|java+constructor:///java/util/ArrayList/ArrayList()|\u001b[m,\n",
       "  \u001b[0;34;4m|java+constructor:///communication/Communication/Communication(server.JupyterServer)|\u001b[m,\n",
       "  \u001b[0;34;4m|java+method:///server/MetaJupyterServer$1/constructEvaluator(java.io.Writer,java.io.Writer)|\u001b[m,\n",
       "  \u001b[0;34;4m|java+method:///server/JupyterServer/getConnection()|\u001b[m,\n",
       "  \u001b[0;34;4m|java+method:///org/rascalmpl/interpreter/Evaluator/addRascalSearchPathContributor(org.rascalmpl.interpreter.load.IRascalSearchPathContributor)|\u001b[m,\n",
       "  \u001b[0;34;4m|java+constructor:///entities/util/HelpLinks/HelpLinks(java.lang.String,java.lang.String)|\u001b[m,\n",
       "  \u001b[0;34;4m|java+method:///entities/request/ContentExecuteRequest/isStoreHistory()|\u001b[m,\n",
       "  \u001b[0;34;4m|java+constructor:///org/rascalmpl/interpreter/load/URIContributor/URIContributor(io.usethesource.vallang.ISourceLocation)|\u001b[m,\n",
       "  \u001b[0;34;4m|java+method:///server/JupyterServer/processHistoryRequest(communication.Header,java.util.Map)|\u001b[m,\n",
       "  \u001b[0;34;4m|java+method:///testImplementations/TermKernel/sendMessage(org.zeromq.ZMQ$Socket,communication.Header,communication.Header,java.util.Map,entities.util.Content)|\u001b[m,\n",
       "  \u001b[0;34;4m|java+constructor:///javax/crypto/spec/SecretKeySpec/SecretKeySpec(byte%5B%5D,java.lang.String)|\u001b[m,\n",
       "  \u001b[0;34;4m|java+method:///java/io/IOException/printStackTrace()|\u001b[m,\n",
       "  \u001b[0;34;4m|java+method:///org/rascalmpl/repl/CompletionResult/getSuggestions()|\u001b[m,\n",
       "  \u001b[0;34;4m|java+method:///communication/Communication/getRequests()|\u001b[m,\n",
       "  \u001b[0;34;4m|java+method:///ser...</pre></div>"
      ]
     },
     "execution_count": 3,
     "metadata": {},
     "output_type": "execute_result"
    }
   ],
   "source": [
    "m1 = m.methodInvocation.to + m.methodInvocation.from;"
   ]
  },
  {
   "cell_type": "code",
   "execution_count": 11,
   "metadata": {},
   "outputs": [
    {
     "name": "stdout",
     "output_type": "stream",
     "text": [
      "@@/communication/Connection/getKernelName()@@\n",
      "@@/testImplementations/TestCaseServer/processShutdownRequest(org.zeromq.ZMQ$Socket,communication.Header,entities.request.ContentShutdownRequest,java.util.Map)@@\n",
      "@@/java/io/StringWriter/getBuffer()@@\n",
      "@@/server/MetaJupyterServer/processIsCompleteRequest(communication.Header,entities.request.ContentIsCompleteRequest,java.util.Map)@@\n",
      "@@/server/JupyterServer/JupyterServer(java.lang.String)@@\n",
      "@@/server/JupyterServer/listenSocket(org.zeromq.ZMQ$Socket,java.lang.String)@@\n",
      "@@/server/JupyterServer/signMessage(java.lang.String,java.lang.String,java.lang.String,java.lang.String)@@\n",
      "@@/java/lang/String/hashCode()@@\n",
      "@@/entities/ContentDisplayData/addData(java.lang.String,java.lang.String)@@\n",
      "@@/server/JupyterServer/processShutdownRequest(org.zeromq.ZMQ$Socket,communication.Header,entities.request.ContentShutdownRequest,java.util.Map)@@\n",
      "@@/server/MetaJupyterServer/processCompleteRequest(communication.Header,entities.request.ContentCompleteRequest,java.util.Map)@@\n",
      "@@/org/rascalmpl/interpreter/env/ModuleEnvironment/getSimpleVariable(java.lang.String)@@\n",
      "@@/java/time/ZonedDateTime/now()@@\n",
      "@@/java/lang/Thread/isInterrupted()@@\n",
      "@@/org/rascalmpl/repl/RascalInterpreterREPL/RascalInterpreterREPL(boolean)@@\n",
      "@@/org/rascalmpl/interpreter/env/GlobalEnvironment/GlobalEnvironment()@@\n",
      "@@/server/MetaJupyterServer/makeInterpreter(java.lang.String,java.lang.String,java.lang.String,java.lang.String[])@@\n",
      "@@/entities/ContentDisplayData/ContentDisplayData()@@\n",
      "@@/testImplementations/TermKernel/processKernelInfoRequest(communication.Header,java.util.Map)@@\n",
      "@@/entities/request/ContentIsCompleteRequest/ContentIsCompleteRequest()@@\n",
      "@@/entities/request/ContentCompleteRequest/ContentCompleteRequest()@@\n",
      "@@/testImplementations/TermKernel/getCommunication()@@\n",
      "@@/java/util/Map/put(java.lang.Object,java.lang.Object)@@\n",
      "@@/java/util/ArrayList/ArrayList()@@\n",
      "@@/communication/Communication/Communication(server.JupyterServer)@@\n",
      "@@/server/MetaJupyterServer$1/constructEvaluator(java.io.Writer,java.io.Writer)@@\n",
      "@@/server/JupyterServer/getConnection()@@\n",
      "@@/org/rascalmpl/interpreter/Evaluator/addRascalSearchPathContributor(org.rascalmpl.interpreter.load.IRascalSearchPathContributor)@@\n",
      "@@/entities/util/HelpLinks/HelpLinks(java.lang.String,java.lang.String)@@\n",
      "@@/entities/request/ContentExecuteRequest/isStoreHistory()@@\n",
      "@@/org/rascalmpl/interpreter/load/URIContributor/URIContributor(io.usethesource.vallang.ISourceLocation)@@\n",
      "@@/server/JupyterServer/processHistoryRequest(communication.Header,java.util.Map)@@\n",
      "@@/testImplementations/TermKernel/sendMessage(org.zeromq.ZMQ$Socket,communication.Header,communication.Header,java.util.Map,entities.util.Content)@@\n",
      "@@/javax/crypto/spec/SecretKeySpec/SecretKeySpec(byte[],java.lang.String)@@\n",
      "@@/java/io/IOException/printStackTrace()@@\n",
      "@@/org/rascalmpl/repl/CompletionResult/getSuggestions()@@\n",
      "@@/communication/Communication/getRequests()@@\n",
      "@@/server/MetaJupyterServer/createHeader(java.lang.String,java.lang.String)@@\n",
      "@@/communication/Communication/getPublish()@@\n",
      "@@/testImplementations/TestCaseServer/getParser()@@\n",
      "@@/communication/Communication/getContext()@@\n",
      "@@/communication/Header/getSession()@@\n",
      "@@/java/lang/String/valueOf(java.lang.Object)@@\n",
      "@@/entities/request/ContentExecuteRequest/isSilent()@@\n",
      "@@/org/rascalmpl/interpreter/result/Result/getValue()@@\n",
      "@@/testImplementations/TestCaseServer/processHistoryRequest(communication.Header,java.util.Map)@@\n",
      "@@/testImplementations/TestCaseServer/getCommunication()@@\n",
      "@@/java/lang/String/String(char[])@@\n",
      "@@/org/zeromq/ZMQ$Context/term()@@\n",
      "@@/testImplementations/TestCaseServer/processKernelInfoRequest(communication.Header,java.util.Map)@@\n",
      "@@/entities/util/ContentStatus/ContentStatus(java.lang.String)@@\n",
      "@@/com/google/gson/GsonBuilder/setFieldNamingPolicy(com.google.gson.FieldNamingPolicy)@@\n",
      "@@/server/MetaJupyterServer/processShutdownRequest(org.zeromq.ZMQ$Socket,communication.Header,entities.request.ContentShutdownRequest,java.util.Map)@@\n",
      "@@/javax/crypto/Mac/doFinal(byte[])@@\n",
      "@@/org/rascalmpl/library/util/TermREPL$TheREPL/TermREPL$TheREPL(io.usethesource.vallang.IValueFactory,io.usethesource.vallang.IConstructor,org.rascalmpl.interpreter.IEvaluatorContext)@@\n",
      "@@/entities/util/Content/Content()@@\n",
      "@@/server/JupyterServer/processKernelInfoRequest(communication.Header,java.util.Map)@@\n",
      "@@/communication/Connection/getTransport()@@\n",
      "@@/communication/Connection/getStdinPort()@@\n",
      "@@/entities/reply/ContentExecuteResult/ContentExecuteResult(int,java.util.Map,java.util.Map)@@\n",
      "@@/org/rascalmpl/shell/ShellEvaluatorFactory/getDefaultEvaluator(java.io.PrintWriter,java.io.PrintWriter)@@\n",
      "@@/java/lang/StringBuilder/append(java.lang.String)@@\n",
      "@@/java/lang/String/trim()@@\n",
      "@@/javax/crypto/Mac/init(java.security.Key)@@\n",
      "@@/java/io/PrintStream/println(java.lang.String)@@\n",
      "@@/org/rascalmpl/interpreter/env/GlobalEnvironment/getModule(java.lang.String)@@\n",
      "@@/testImplementations/TestCaseServer/sendMessage(org.zeromq.ZMQ$Socket,communication.Header,communication.Header,java.util.Map,entities.util.Content)@@\n",
      "@@/java/io/PrintWriter/PrintWriter(java.io.Writer)@@\n",
      "@@/org/zeromq/ZMQ$Socket/recvStr()@@\n",
      "@@/server/JupyterServer/sendMessage(org.zeromq.ZMQ$Socket,communication.Header,communication.Header,java.util.Map,entities.util.Content)@@\n",
      "@@/communication/Header/getMsgType()@@\n",
      "@@/entities/request/ContentExecuteRequest/ContentExecuteRequest()@@\n",
      "@@/server/JupyterServer/createHeader(java.lang.String,java.lang.String)@@\n",
      "@@/entities/request/ContentShutdownRequest/ContentShutdownRequest(boolean)@@\n",
      "@@/org/zeromq/ZMQ$Context/socket(int)@@\n",
      "@@/testImplementations/TestCaseServer/createHeader(java.lang.String,java.lang.String)@@\n",
      "@@/testImplementations/TermKernel/processExecuteRequest(communication.Header,entities.request.ContentExecuteRequest,java.util.Map)@@\n",
      "@@/entities/reply/ContentIsCompleteReply/ContentIsCompleteReply(java.lang.String,java.lang.String)@@\n",
      "@@/org/zeromq/ZMQ$Socket/sendMore(byte[])@@\n",
      "@@/communication/Communication/toUri(java.lang.Long)@@\n",
      "@@/javax/crypto/Mac/getInstance(java.lang.String)@@\n",
      "@@/org/apache/commons/codec/binary/Hex/encodeHex(byte[])@@\n",
      "@@/server/MetaJupyterServer/processKernelInfoRequest(communication.Header,java.util.Map)@@\n",
      "@@/java/lang/String/length()@@\n",
      "@@/entities/request/ContentHistoryRequest/ContentHistoryRequest()@@\n",
      "@@/java/util/Map/isEmpty()@@\n",
      "@@/java/lang/Thread/currentThread()@@\n",
      "@@/server/MetaJupyterServer/getCommunication()@@\n",
      "@@/testImplementations/TermKernel/TermKernel(java.lang.String,java.lang.String,java.lang.String,java.lang.String,java.lang.String)@@\n",
      "@@/org/zeromq/ZMQ$Poller/ZMQ$Poller(int)@@\n",
      "@@/testImplementations/TestCaseServer/TestCaseServer(java.lang.String)@@\n",
      "@@/entities/request/ContentCompleteRequest/getCursorPosition()@@\n",
      "@@/java/lang/String/format(java.lang.String,java.lang.Object[])@@\n",
      "@@/org/rascalmpl/interpreter/Evaluator/getHeap()@@\n",
      "@@/entities/util/CodeMirrorMode/CodeMirrorMode(java.lang.String)@@\n",
      "@@/server/JupyterServer/heartbeatChannel()@@\n",
      "@@/java/util/UUID/randomUUID()@@\n",
      "@@/entities/util/LanguageInfo/LanguageInfo(java.lang.String)@@\n",
      "@@/server/MetaJupyterServer/sendMessage(org.zeromq.ZMQ$Socket,communication.Header,communication.Header,java.util.Map,entities.util.Content)@@\n",
      "@@/org/rascalmpl/interpreter/load/StandardLibraryContributor/getInstance()@@\n",
      "@@/org/zeromq/ZMQ$Socket/recvStr(int)@@\n",
      "@@/server/MetaJupyterServer/startServer()@@\n",
      "@@/java/io/StringWriter/flush()@@\n",
      "@@/communication/Connection/getShellPort()@@\n",
      "@@/entities/reply/ContentShutdownReply/ContentShutdownReply(boolean)@@\n",
      "@@/communication/Header/Header(java.lang.String,java.lang.String,java.lang.String,java.lang.String,java.lang.String,java.lang.String)@@\n",
      "@@/testImplementations/TestCaseServer/processExecuteRequest(communication.Header,entities.request.ContentExecuteRequest,java.util.Map)@@\n",
      "@@/testImplementations/TermKernel/createHeader(java.lang.String,java.lang.String)@@\n",
      "@@/communication/Connection/printConnectionSettings()@@\n",
      "@@/org/zeromq/ZMQ$Poller/register(org.zeromq.ZMQ$Socket,int)@@\n",
      "@@/org/zeromq/ZMQ$Socket/bind(java.lang.String)@@\n",
      "@@/org/zeromq/ZMQ$Socket/sendMore(java.lang.String)@@\n",
      "@@/java/util/HashMap/HashMap()@@\n",
      "@@/server/JupyterServer/processExecuteRequest(communication.Header,entities.request.ContentExecuteRequest,java.util.Map)@@\n",
      "@@/com/google/gson/GsonBuilder/create()@@\n",
      "@@/java/io/FileReader/FileReader(java.lang.String)@@\n",
      "@@/java/lang/System/exit(int)@@\n",
      "@@/entities/request/ContentIsCompleteRequest/getCode()@@\n",
      "@@/entities/reply/ContentExecuteReplyAbort/setStatus(java.lang.String)@@\n",
      "@@/entities/reply/ContentExecuteReplyOk/ContentExecuteReplyOk(int)@@\n",
      "@@/java/lang/String/equals(java.lang.Object)@@\n",
      "@@/entities/Message/Message()@@\n",
      "@@/entities/ContentStream/ContentStream(java.lang.String,java.lang.String)@@\n",
      "@@/communication/Communication/getHeartbeat()@@\n",
      "@@/java/lang/Exception/printStackTrace()@@\n",
      "@@/entities/reply/ContentKernelInfoReply/ContentKernelInfoReply(java.lang.String,java.lang.String,java.lang.String,entities.util.LanguageInfo,java.lang.String,java.util.List)@@\n",
      "@@/entities/request/ContentExecuteRequest/getCode()@@\n",
      "@@/io/usethesource/vallang/IValueFactory/sourceLocation(java.lang.String,java.lang.String,java.lang.String)@@\n",
      "@@/communication/Communication/getControl()@@\n",
      "@@/communication/Connection/getHbPort()@@\n",
      "@@/org/rascalmpl/repl/ILanguageProtocol/initialize(java.io.Writer,java.io.Writer)@@\n",
      "@@/entities/util/Status/Status()@@\n",
      "@@/java/lang/StringBuilder/StringBuilder()@@\n",
      "@@/com/google/gson/Gson/toJson(java.lang.Object)@@\n",
      "@@/org/zeromq/ZMQ$Poller/pollin(int)@@\n",
      "@@/org/zeromq/ZMQ$Context/close()@@\n",
      "@@/testImplementations/TermKernel/main(java.lang.String[])@@\n",
      "@@/entities/request/ContentShutdownRequest/getRestart()@@\n",
      "@@/server/JupyterServer/startServer()@@\n",
      "@@/server/MetaJupyterServer/processExecuteRequest(communication.Header,entities.request.ContentExecuteRequest,java.util.Map)@@\n",
      "@@/java/time/ZonedDateTime/format(java.time.format.DateTimeFormatter)@@\n",
      "@@/entities/util/LanguageInfo/LanguageInfo(java.lang.String,java.lang.String,java.lang.String,java.lang.String)@@\n",
      "@@/org/rascalmpl/interpreter/env/GlobalEnvironment/addModule(org.rascalmpl.interpreter.env.ModuleEnvironment)@@\n",
      "@@/org/rascalmpl/interpreter/env/ModuleEnvironment/ModuleEnvironment(java.lang.String,org.rascalmpl.interpreter.env.GlobalEnvironment)@@\n",
      "@@/entities/ContentDisplayData/ContentDisplayData(java.util.Map,java.util.Map,java.util.Map)@@\n",
      "@@/java/io/StringWriter/StringWriter()@@\n",
      "@@/org/rascalmpl/interpreter/Evaluator/doImport(org.rascalmpl.debug.IRascalMonitor,java.lang.String)@@\n",
      "@@/communication/Connection/getIoPubPort()@@\n",
      "@@/org/zeromq/ZMQ$Socket/close()@@\n",
      "@@/java/net/URISyntaxException/printStackTrace()@@\n",
      "@@/java/lang/String/getBytes(java.lang.String)@@\n",
      "@@/java/lang/InterruptedException/printStackTrace()@@\n",
      "@@/java/util/List/add(java.lang.Object)@@\n",
      "@@/entities/util/MessageType/MessageType()@@\n",
      "@@/org/zeromq/ZMQ/context(int)@@\n",
      "@@/testImplementations/TermKernel/processCompleteRequest(communication.Header,entities.request.ContentCompleteRequest,java.util.Map)@@\n",
      "@@/server/MetaJupyterServer/MetaJupyterServer(java.lang.String)@@\n",
      "@@/java/io/StringWriter/toString()@@\n",
      "@@/testImplementations/TermKernel/processIsCompleteRequest(communication.Header,entities.request.ContentIsCompleteRequest,java.util.Map)@@\n",
      "@@/server/JupyterServer/listenHeartbeatSocket()@@\n",
      "@@/entities/ContentExecuteInput/ContentExecuteInput(java.lang.String,int)@@\n",
      "@@/server/JupyterServer/statusUpdate(communication.Header,java.lang.String)@@\n",
      "@@/org/rascalmpl/repl/ILanguageProtocol/isStatementComplete(java.lang.String)@@\n",
      "@@/com/google/gson/GsonBuilder/GsonBuilder()@@\n",
      "@@/org/zeromq/ZMQ$Socket/send(java.lang.String,int)@@\n",
      "@@/java/io/UnsupportedEncodingException/printStackTrace()@@\n",
      "@@/testImplementations/TermKernel/makeInterpreter(java.lang.String,java.lang.String,java.lang.String,java.lang.String[])@@\n",
      "@@/org/rascalmpl/repl/ILanguageProtocol/completeFragment(java.lang.String,int)@@\n",
      "@@/server/JupyterServer/encode(java.lang.String)@@\n",
      "@@/testImplementations/TestCaseServer/main(java.lang.String[])@@\n",
      "@@/java/lang/String/startsWith(java.lang.String)@@\n",
      "@@/entities/reply/ContentKernelInfoReply/ContentKernelInfoReply(entities.util.LanguageInfo)@@\n",
      "@@/communication/Header/Header()@@\n",
      "@@/org/rascalmpl/repl/ILanguageProtocol/stop()@@\n",
      "@@/org/rascalmpl/values/ValueFactoryFactory/getValueFactory()@@\n",
      "@@/testImplementations/TermKernel/startServer()@@\n",
      "@@/com/google/gson/Gson/fromJson(java.lang.String,java.lang.Class)@@\n",
      "@@/communication/Connection/Connection()@@\n",
      "@@/java/lang/StringBuilder/append(java.lang.Object)@@\n",
      "@@/entities/reply/ContentCompleteReply/ContentCompleteReply(java.util.List,int,int,java.util.Map,java.lang.String)@@\n",
      "@@/java/lang/Object/getClass()@@\n",
      "@@/server/MetaJupyterServer$1/MetaJupyterServer$1(server.MetaJupyterServer,boolean)@@\n",
      "@@/testImplementations/TestCaseServer/processIsCompleteRequest(communication.Header,entities.request.ContentIsCompleteRequest,java.util.Map)@@\n",
      "@@/java/io/PrintWriter/PrintWriter(java.io.OutputStream)@@\n",
      "@@/entities/reply/ContentDisplayData/ContentDisplayData(java.util.Map,java.util.Map,java.util.Map)@@\n",
      "@@/communication/Connection/getSignatureScheme()@@\n",
      "@@/java/lang/String/getBytes()@@\n",
      "@@/entities/request/ContentCompleteRequest/getCode()@@\n",
      "@@/entities/Message/Message(java.lang.String,java.lang.String,communication.Header,communication.Header,entities.util.Content,java.lang.String)@@\n",
      "@@/server/JupyterServer/processShellMessageType(communication.Header,java.lang.String,java.util.Map)@@\n",
      "@@/java/security/InvalidKeyException/printStackTrace()@@\n",
      "@@/server/JupyterServer/processIsCompleteRequest(communication.Header,entities.request.ContentIsCompleteRequest,java.util.Map)@@\n",
      "@@/testImplementations/TermKernel/processShutdownRequest(org.zeromq.ZMQ$Socket,communication.Header,entities.request.ContentShutdownRequest,java.util.Map)@@\n",
      "@@/communication/Connection/getControlPort()@@\n",
      "@@/org/rascalmpl/repl/ILanguageProtocol/handleInput(java.lang.String,java.util.Map,java.util.Map)@@\n",
      "@@/server/JupyterServer/processCompleteRequest(communication.Header,entities.request.ContentCompleteRequest,java.util.Map)@@\n",
      "@@/communication/Connection/getKey()@@\n",
      "@@/entities/reply/ContentHistoryReply/ContentHistoryReply()@@\n",
      "@@/entities/reply/ContentExecuteReplyAbort/ContentExecuteReplyAbort()@@\n",
      "@@/entities/reply/ContentKernelInfoReply/ContentKernelInfoReply()@@\n",
      "@@/org/rascalmpl/interpreter/Evaluator/Evaluator(io.usethesource.vallang.IValueFactory,java.io.PrintWriter,java.io.PrintWriter,org.rascalmpl.interpreter.env.ModuleEnvironment,org.rascalmpl.interpreter.env.GlobalEnvironment)@@\n",
      "@@/testImplementations/TestCaseServer/processExecuteResult(communication.Header,java.lang.String,int,java.util.Map)@@\n",
      "@@/org/zeromq/ZMQ$Poller/poll()@@\n",
      "@@/java/lang/Object/Object()@@\n",
      "@@/server/MetaJupyterServer/main(java.lang.String[])@@\n",
      "@@/java/lang/StringBuilder/toString()@@\n",
      "@@/com/google/gson/Gson/fromJson(java.io.Reader,java.lang.Class)@@\n",
      "@@/entities/reply/ContentExecuteReplyError/ContentExecuteReplyError(java.lang.String,java.lang.String,java.util.List)@@\n",
      "@@/java/lang/String/endsWith(java.lang.String)@@\n",
      "@@/communication/Connection/getIp()@@\n",
      "@@/java/lang/StringBuffer/setLength(int)@@\n",
      "@@/java/security/NoSuchAlgorithmException/printStackTrace()@@\n"
     ]
    },
    {
     "data": {
      "text/html": [
       "<div><pre title=\"Type: list[void]\">[]</pre></div>"
      ]
     },
     "execution_count": 11,
     "metadata": {},
     "output_type": "execute_result"
    }
   ],
   "source": [
    "for(loc x<-m1){\n",
    "    println(\"@@<x.path>@@\");\n",
    "}"
   ]
  },
  {
   "cell_type": "code",
   "execution_count": 3,
   "metadata": {},
   "outputs": [],
   "source": [
    "import IO;"
   ]
  },
  {
   "cell_type": "code",
   "execution_count": 6,
   "metadata": {},
   "outputs": [
    {
     "name": "stdout",
     "output_type": "stream",
     "text": [
      "/Users/mveranom/Documents/bacata/rascal-notebook/src/main/examples/\n"
     ]
    }
   ],
   "source": [
    "println(\"<resolveLocation(|cwd:///|).path>\");"
   ]
  },
  {
   "cell_type": "code",
   "execution_count": null,
   "metadata": {},
   "outputs": [],
   "source": []
  }
 ],
 "metadata": {
  "kernelspec": {
   "display_name": "Rascal",
   "language": "Rascal",
   "name": "rascal-local"
  },
  "language_info": {
   "codemirror_mode": {
    "name": "rascal"
   },
   "file_extension": ".rsc",
   "mimetype": "text/x-rascal",
   "name": "Rascal",
   "version": "1.8.0_77"
  }
 },
 "nbformat": 4,
 "nbformat_minor": 2
}
