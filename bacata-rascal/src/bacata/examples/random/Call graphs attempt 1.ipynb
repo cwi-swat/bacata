{
 "cells": [
  {
   "cell_type": "markdown",
   "metadata": {},
   "source": [
    "# Imports"
   ]
  },
  {
   "cell_type": "code",
   "execution_count": 1,
   "metadata": {},
   "outputs": [],
   "source": [
    "import bacata::visualization::Visualization;"
   ]
  },
  {
   "cell_type": "code",
   "execution_count": 2,
   "metadata": {},
   "outputs": [],
   "source": [
    "import salix::HTML;"
   ]
  },
  {
   "cell_type": "code",
   "execution_count": 3,
   "metadata": {},
   "outputs": [],
   "source": [
    "import salix::SVG;"
   ]
  },
  {
   "cell_type": "code",
   "execution_count": 4,
   "metadata": {},
   "outputs": [],
   "source": [
    "import salix::lib::Dagre;"
   ]
  },
  {
   "cell_type": "code",
   "execution_count": 5,
   "metadata": {},
   "outputs": [],
   "source": [
    "import salix::App;"
   ]
  },
  {
   "cell_type": "code",
   "execution_count": 6,
   "metadata": {},
   "outputs": [],
   "source": [
    "import Set;"
   ]
  },
  {
   "cell_type": "code",
   "execution_count": 7,
   "metadata": {},
   "outputs": [],
   "source": [
    "import lang::java::m3::Core;"
   ]
  },
  {
   "cell_type": "markdown",
   "metadata": {},
   "source": [
    "# Code"
   ]
  },
  {
   "cell_type": "code",
   "execution_count": 8,
   "metadata": {},
   "outputs": [],
   "source": [
    " alias Model = M3;"
   ]
  },
  {
   "cell_type": "code",
   "execution_count": 9,
   "metadata": {},
   "outputs": [
    {
     "data": {
      "text/html": [
       "<div><pre title=\"Type: Model ()\">function(\u001b[0;34;4m|prompt:///|(1,70,<1,1>,<1,71>)\u001b[m)</pre></div>"
      ]
     },
     "execution_count": 9,
     "metadata": {},
     "output_type": "execute_result"
    }
   ],
   "source": [
    " Model init() = createM3FromJar(|cwd:///bacata-core-1.0-SNAPSHOT.jar|);"
   ]
  },
  {
   "cell_type": "code",
   "execution_count": 10,
   "metadata": {},
   "outputs": [
    {
     "data": {
      "text/html": [
       "<div><pre title=\"Type: void (Model)\">function(\u001b[0;34;4m|prompt:///|(0,542,<1,0>,<18,1>)\u001b[m)</pre></div>"
      ]
     },
     "execution_count": 10,
     "metadata": {},
     "output_type": "execute_result"
    }
   ],
   "source": [
    "void view(Model m) {\n",
    "  div(() {\n",
    "    h4(\"M3 Dependencies\");    \n",
    "    dagre(\"mygraph\", rankdir(\"LR\"), title(\"M3 modules\"), width(960), height(600), (N n, E e) {\n",
    "         nos = m.methodInvocation.to + m.methodInvocation.from; \n",
    "    for(loc x <- nos){\n",
    "        n(\"<x.path>\", shape(\"rect\"), () {\n",
    "            div(id(\"nod-label\"),(){\n",
    "                p(\"<x.path>\");\n",
    "            });\n",
    "        });\n",
    "        }\n",
    "        for (<loc x, loc y> <- m.methodInvocation) {\n",
    "             e(\"<x.path>\", \"<y.path>\", lineInterpolate(\"cardinal\"));\n",
    "         }\n",
    "    }); \n",
    "  });\n",
    "}"
   ]
  },
  {
   "cell_type": "code",
   "execution_count": 11,
   "metadata": {},
   "outputs": [],
   "source": [
    "data Msg \n",
    "    = inc() \n",
    "    | dec();"
   ]
  },
  {
   "cell_type": "code",
   "execution_count": 12,
   "metadata": {},
   "outputs": [
    {
     "data": {
      "text/html": [
       "<div><pre title=\"Type: Model (Msg, Model)\">function(\u001b[0;34;4m|prompt:///|(0,46,<1,0>,<3,1>)\u001b[m)</pre></div>"
      ]
     },
     "execution_count": 12,
     "metadata": {},
     "output_type": "execute_result"
    }
   ],
   "source": [
    "Model update(Msg msg, Model m) {\n",
    "  return m;\n",
    "}"
   ]
  },
  {
   "cell_type": "code",
   "execution_count": 13,
   "metadata": {},
   "outputs": [
    {
     "data": {
      "text/html": [
       "<div class = \"output_stdout\">Visualization server running: <a href=\"http://localhost:3535\" target=\"_blank\">http://localhost:3535</a><br></div>"
      ]
     },
     "metadata": {
      "text/html": "<div class = \"output_stdout\">Visualization server running: <a href=\"http://localhost:3535\" target=\"_blank\">http://localhost:3535</a><br></div>"
     },
     "output_type": "display_data"
    },
    {
     "data": {
      "text/html": [
       "<div><pre title=\"Type: SalixMultiplexer\"><function(\u001b[0;34;4m|jar:///Users/mveranom/Documents/bacata/bacata-rascal/target/bacata-rascal-0.1.0-SNAPSHOT-jar-with-dependencies.jar!/src/bacata/salix/Bridge.rsc|(1548,81,<57,10>,<60,3>)\u001b[m),function(\u001b[0;34;4m|jar:///Users/mveranom/Documents/bacata/bacata-rascal/target/bacata-rascal-0.1.0-SNAPSHOT-jar-with-dependencies.jar!/src/bacata/salix/Bridge.rsc|(1631,28,<60,5>,<62,3>)\u001b[m),\u001b[0;34;4m|http://localhost:3535|\u001b[m></pre></div>"
      ]
     },
     "execution_count": 13,
     "metadata": {
      "text/html": "<div class = \"output_stdout\">Visualization server running: <a href=\"http://localhost:3535\" target=\"_blank\">http://localhost:3535</a><br></div>"
     },
     "output_type": "execute_result"
    }
   ],
   "source": [
    "vis = visualizationServer();"
   ]
  },
  {
   "cell_type": "code",
   "execution_count": 14,
   "metadata": {
    "scrolled": false
   },
   "outputs": [
    {
     "data": {
      "text/html": [
       "<script>var id4 = new Salix('id4', 'http://localhost:3535');google.charts.load('current', {'packages':['corechart']});google.charts.setOnLoadCallback(function () { registerCharts(id4);\n",
       " registerDagre(id4); \n",
       " registerTreeView(id4); \n",
       "id4.start();});</script><div id=\"id4\"></div>"
      ]
     },
     "execution_count": 14,
     "metadata": {},
     "output_type": "execute_result"
    }
   ],
   "source": [
    "vis.consumer(makeApp(init, view, update), \"id4\");"
   ]
  },
  {
   "cell_type": "code",
   "execution_count": null,
   "metadata": {},
   "outputs": [],
   "source": []
  }
 ],
 "metadata": {
  "kernelspec": {
   "display_name": "Rascal",
   "language": "Rascal",
   "name": "rascal-local"
  },
  "language_info": {
   "codemirror_mode": {
    "name": "rascal"
   },
   "file_extension": ".rsc",
   "mimetype": "text/x-rascal",
   "name": "Rascal",
   "version": "1.8.0_77"
  }
 },
 "nbformat": 4,
 "nbformat_minor": 2
}
