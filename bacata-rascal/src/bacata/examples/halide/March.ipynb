{
 "cells": [
  {
   "cell_type": "code",
   "execution_count": null,
   "metadata": {},
   "outputs": [],
   "source": [
    "Image<float> in = load_image(\"/Users/mveranom/Downloads/cballs.png\");"
   ]
  },
  {
   "cell_type": "code",
   "execution_count": null,
   "metadata": {},
   "outputs": [],
   "source": [
    "Buffer<uint32_t> m = rand_array_align(64, 64 , 32);"
   ]
  },
  {
   "cell_type": "code",
   "execution_count": null,
   "metadata": {},
   "outputs": [],
   "source": [
    "@AOT\n",
    "Halide::Func brighter(){\n",
    "    Var x,y;\n",
    "    Param<uint8_t> offset;\n",
    "    ImageParam input(type_of<uint32_t>(), 2);\n",
    "    \n",
    "    Func brighter;\n",
    "    brighter(x, y) = print(input(x, y), \"is the input value, when x:\",x ,\", and y:\", y) + offset;\n",
    "    brighter.vectorize(x, 16).parallel(y);\n",
    "\n",
    "    brighter.compile_to_static_library({input, offset}, \"brighter\");\n",
    "    \n",
    "}"
   ]
  },
  {
   "cell_type": "code",
   "execution_count": null,
   "metadata": {},
   "outputs": [],
   "source": [
    "main() {\n",
    "\n",
    "    Halide::Runtime::Buffer<uint32_t> A(m(), 64, 64);\n",
    "    Halide::Runtime::Buffer<uint32_t> output(64, 64);\n",
    "    \n",
    "    int offset = 5;\n",
    "    \n",
    "    int error = brighter(A, offset, output);\n",
    "    \n",
    "    printf(\"success\");\n",
    "    \n",
    "}"
   ]
  },
  {
   "cell_type": "code",
   "execution_count": null,
   "metadata": {},
   "outputs": [],
   "source": []
  },
  {
   "cell_type": "code",
   "execution_count": null,
   "metadata": {},
   "outputs": [],
   "source": []
  },
  {
   "cell_type": "code",
   "execution_count": null,
   "metadata": {},
   "outputs": [],
   "source": []
  }
 ],
 "metadata": {
  "kernelspec": {
   "display_name": "Halide",
   "language": "halide",
   "name": "halide"
  },
  "language_info": {
   "codemirror_mode": {
    "name": "halide"
   },
   "file_extension": ".rsc",
   "mimetype": "text/x-rascal",
   "name": "Rascal",
   "version": "1.8.0_77"
  }
 },
 "nbformat": 4,
 "nbformat_minor": 2
}
