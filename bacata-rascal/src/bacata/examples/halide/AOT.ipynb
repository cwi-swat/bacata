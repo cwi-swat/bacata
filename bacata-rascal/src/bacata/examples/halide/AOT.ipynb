{
 "cells": [
  {
   "cell_type": "code",
   "execution_count": 1,
   "metadata": {},
   "outputs": [
    {
     "data": {
      "text/html": [
       "<img src = ./generated_code/images/in.png>"
      ]
     },
     "execution_count": 1,
     "metadata": {},
     "output_type": "execute_result"
    }
   ],
   "source": [
    "Image<float> in = load_image(\"/Users/mveranom/Downloads/cballs.png\");"
   ]
  },
  {
   "cell_type": "markdown",
   "metadata": {},
   "source": [
    "# AOT"
   ]
  },
  {
   "cell_type": "code",
   "execution_count": 1,
   "metadata": {},
   "outputs": [
    {
     "data": {
      "text/html": [
       "ok"
      ]
     },
     "execution_count": 1,
     "metadata": {},
     "output_type": "execute_result"
    }
   ],
   "source": [
    "Buffer<uint32_t> m = rand_array_align(4, 4, 32);"
   ]
  },
  {
   "cell_type": "markdown",
   "metadata": {},
   "source": [
    "# Option 1"
   ]
  },
  {
   "cell_type": "code",
   "execution_count": 2,
   "metadata": {},
   "outputs": [
    {
     "data": {
      "text/html": [
       "AOT:"
      ]
     },
     "execution_count": 2,
     "metadata": {},
     "output_type": "execute_result"
    }
   ],
   "source": [
    "@AOT\n",
    "Halide::Func brighter(){\n",
    "    Var x,y;\n",
    "    Param<uint8_t> offset;\n",
    "    ImageParam input(type_of<uint32_t>(), 2);\n",
    "    \n",
    "    Func brighter;\n",
    "    brighter(x, y) = input(x, y) + offset;\n",
    "    brighter.vectorize(x, 16).parallel(y);\n",
    "\n",
    "    brighter.compile_to_static_library({input, offset}, \"brighter\");\n",
    "    \n",
    "}"
   ]
  },
  {
   "cell_type": "code",
   "execution_count": 3,
   "metadata": {},
   "outputs": [
    {
     "data": {
      "text/html": [
       "ok: {\"brighter\",\"m\"}"
      ]
     },
     "execution_count": 3,
     "metadata": {},
     "output_type": "execute_result"
    }
   ],
   "source": [
    "main() {\n",
    "\n",
    "    Halide::Runtime::Buffer<uint32_t> A(m(), 4, 4);\n",
    "    Halide::Runtime::Buffer<uint32_t> output(4, 4);\n",
    "    \n",
    "    int offset = 5;\n",
    "    \n",
    "    int error = brighter(A, offset, output);\n",
    "    \n",
    "    printf(\"sucess!\\n\");\n",
    "    \n",
    "}"
   ]
  },
  {
   "cell_type": "markdown",
   "metadata": {},
   "source": [
    "# Option 2"
   ]
  },
  {
   "cell_type": "code",
   "execution_count": null,
   "metadata": {},
   "outputs": [],
   "source": [
    "Var x,y;\n",
    "Param<uint8_t> offset;\n",
    "ImageParam input(type_of<uint32_t>(), 2);\n",
    "    \n",
    "Func brighter;\n",
    "brighter(x, y) = input(x, y) + offset;\n",
    "brighter.vectorize(x, 16).parallel(y);\n",
    "\n",
    "brighter.compile_to_static_library(\"lesson_10_halide\", {input, offset}, \"brighter\");"
   ]
  },
  {
   "cell_type": "code",
   "execution_count": null,
   "metadata": {},
   "outputs": [],
   "source": [
    "main(\n",
    "    brighter(m, 4);\n",
    ")"
   ]
  }
 ],
 "metadata": {
  "kernelspec": {
   "display_name": "Holtren",
   "language": "holtren",
   "name": "holtren"
  },
  "language_info": {
   "codemirror_mode": {
    "name": "holtren"
   },
   "file_extension": ".rsc",
   "mimetype": "text/x-rascal",
   "name": "Rascal",
   "version": "1.8.0_77"
  }
 },
 "nbformat": 4,
 "nbformat_minor": 2
}
