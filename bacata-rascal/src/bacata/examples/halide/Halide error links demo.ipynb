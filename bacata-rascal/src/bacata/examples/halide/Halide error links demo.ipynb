{
 "cells": [
  {
   "cell_type": "code",
   "execution_count": 1,
   "metadata": {},
   "outputs": [
    {
     "data": {
      "text/html": [
       "<div><img src = \"./generated_code/images/in.png\"></div>"
      ]
     },
     "execution_count": 1,
     "metadata": {},
     "output_type": "execute_result"
    }
   ],
   "source": [
    "Image<float> in = load_image(\"/Users/mveranom/Downloads/cballs.png\");"
   ]
  },
  {
   "cell_type": "code",
   "execution_count": 2,
   "metadata": {},
   "outputs": [],
   "source": [
    "Halide::Func blur(Image<float> in){\n",
    "    float sigma = 1.5f;\n",
    "    Var x,y,c;\n",
    "    \n",
    "    Func kernel;\n",
    "    kernel(x) = exp(-x*x/(2*sigma*sigma))/(sqrtf(2*M_PI)*sigma);\n",
    "\n",
    "    Func in_bounded;\n",
    "    in_bounded = BoundaryConditions::repeat_edge(in);\n",
    "    \n",
    "    Func blur_y;\n",
    "    blur_y(x,y,c) = (kernel(0)*in_bounded(x,y,c) + \n",
    "                    kernel(1)*(in_bounded(x,y-1,c)+ in_bounded(x,y+1,c))+\n",
    "                    kernel(2)*(in_bounded(x,y-2,c)+in_bounded(x,y+2,c))+\n",
    "                    kernel(3)*(in_bounded(x,y-3,c)+in_bounded(x,y+3,c)));\n",
    "                    \n",
    "    Func blur_x;\n",
    "    blur_x(x,y,c) = (kernel(0)*blur_y(x,y,c) + \n",
    "                    kernel(1)*(blur_y(x-1,y,c)+blur_y(x+1,y,c))+\n",
    "                    kernel(2)*(blur_y(x-2,y,c)+blur_y(x+2,y,c))+\n",
    "                    kernel(3)*(blur_y(x-3,y,c)+blur_y(x+3,y,c)));\n",
    "    \n",
    "    blur_y.compute_root();\n",
    "    \n",
    "    return blur_x;\n",
    "}"
   ]
  },
  {
   "cell_type": "code",
   "execution_count": 3,
   "metadata": {},
   "outputs": [
    {
     "data": {
      "text/html": [
       "<div class = \"output_stderr\"> In file included from </pre> <a href=\"/edit/generated_code/main_blur.cpp\" target=\"_blank\"> /Users/mveranom/Documents/bacata/bacata-rascal/src/bacata/examples/halide/generated_code/main_blur.cpp:1:</a>:<pre>\n",
       "</pre> <a href=\"/edit/generated_code/blur.h\" target=\"_blank\"> /Users/mveranom/Documents/bacata/bacata-rascal/src/bacata/examples/halide/generated_code/blur.h:11:11</a>: error: use of undeclared identifier 'Image'<pre>\n",
       "Func blur(Image<float> in);\n",
       "          ^\n",
       "</pre> <a href=\"/edit/generated_code/blur.h\" target=\"_blank\"> /Users/mveranom/Documents/bacata/bacata-rascal/src/bacata/examples/halide/generated_code/blur.h:11:22</a>: error: expected '(' for function-style cast or type construction<pre>\n",
       "Func blur(Image<float> in);\n",
       "                ~~~~~^\n",
       "</pre> <a href=\"/edit/generated_code/blur.h\" target=\"_blank\"> /Users/mveranom/Documents/bacata/bacata-rascal/src/bacata/examples/halide/generated_code/blur.h:11:24</a>: error: use of undeclared identifier 'in'<pre>\n",
       "Func blur(Image<float> in);\n",
       "                       ^\n",
       "In file included from </pre> <a href=\"/edit/generated_code/main_blur.cpp\" target=\"_blank\"> /Users/mveranom/Documents/bacata/bacata-rascal/src/bacata/examples/halide/generated_code/main_blur.cpp:2:</a>:<pre>\n",
       "</pre> <a href=\"/edit/generated_code/in.h\" target=\"_blank\"> /Users/mveranom/Documents/bacata/bacata-rascal/src/bacata/examples/halide/generated_code/in.h:9:1</a>: error: unknown type name 'Image'<pre>\n",
       "Image<float> in();\n",
       "^\n",
       "</pre> <a href=\"/edit/generated_code/in.h\" target=\"_blank\"> /Users/mveranom/Documents/bacata/bacata-rascal/src/bacata/examples/halide/generated_code/in.h:9:6</a>: error: expected unqualified-id<pre>\n",
       "Image<float> in();\n",
       "     ^\n",
       "</pre> <a href=\"/edit/generated_code/main_blur.cpp\" target=\"_blank\"> /Users/mveranom/Documents/bacata/bacata-rascal/src/bacata/examples/halide/generated_code/main_blur.cpp:8:2</a>: error: use of undeclared identifier 'Image'<pre>\n",
       "        Image<float> output1 = blur(in()).realize(in().width(), in().height(), in().channels(), target);\n",
       "        ^\n",
       "</pre> <a href=\"/edit/generated_code/main_blur.cpp\" target=\"_blank\"> /Users/mveranom/Documents/bacata/bacata-rascal/src/bacata/examples/halide/generated_code/main_blur.cpp:8:13</a>: error: expected '(' for function-style cast or type construction<pre>\n",
       "        Image<float> output1 = blur(in()).realize(in().width(), in().height(), in().channels(), target);\n",
       "              ~~~~~^\n",
       "</pre> <a href=\"/edit/generated_code/main_blur.cpp\" target=\"_blank\"> /Users/mveranom/Documents/bacata/bacata-rascal/src/bacata/examples/halide/generated_code/main_blur.cpp:8:15</a>: error: use of undeclared identifier 'output1'<pre>\n",
       "        Image<float> output1 = blur(in()).realize(in().width(), in().height(), in().channels(), target);\n",
       "                     ^\n",
       "</pre> <a href=\"/edit/generated_code/main_blur.cpp\" target=\"_blank\"> /Users/mveranom/Documents/bacata/bacata-rascal/src/bacata/examples/halide/generated_code/main_blur.cpp:8:30</a>: error: use of undeclared identifier 'in'<pre>\n",
       "        Image<float> output1 = blur(in()).realize(in().width(), in().height(), in().channels(), target);\n",
       "                                    ^\n",
       "</pre> <a href=\"/edit/generated_code/main_blur.cpp\" target=\"_blank\"> /Users/mveranom/Documents/bacata/bacata-rascal/src/bacata/examples/halide/generated_code/main_blur.cpp:8:44</a>: error: use of undeclared identifier 'in'<pre>\n",
       "        Image<float> output1 = blur(in()).realize(in().width(), in().height(), in().channels(), target);\n",
       "                                                  ^\n",
       "</pre> <a href=\"/edit/generated_code/main_blur.cpp\" target=\"_blank\"> /Users/mveranom/Documents/bacata/bacata-rascal/src/bacata/examples/halide/generated_code/main_blur.cpp:8:58</a>: error: use of undeclared identifier 'in'<pre>\n",
       "        Image<float> output1 = blur(in()).realize(in().width(), in().height(), in().channels(), target);\n",
       "                                                                ^\n",
       "</pre> <a href=\"/edit/generated_code/main_blur.cpp\" target=\"_blank\"> /Users/mveranom/Documents/bacata/bacata-rascal/src/bacata/examples/halide/generated_code/main_blur.cpp:8:73</a>: error: use of undeclared identifier 'in'<pre>\n",
       "        Image<float> output1 = blur(in()).realize(in().width(), in().height(), in().channels(), target);\n",
       "                                                                               ^\n",
       "</pre> <a href=\"/edit/generated_code/main_blur.cpp\" target=\"_blank\"> /Users/mveranom/Documents/bacata/bacata-rascal/src/bacata/examples/halide/generated_code/main_blur.cpp:10:13</a>: error: use of undeclared identifier 'output1'<pre>\n",
       "        save_image(output1, \"/Users/mveranom/Documents/bacata/bacata-rascal/src/bacata/examples/halide/generated_code/images/output1.png\");\n",
       "                   ^\n",
       "13 errors generated.\n",
       "In file included from </pre> <a href=\"/edit/generated_code/blur.cpp\" target=\"_blank\"> /Users/mveranom/Documents/bacata/bacata-rascal/src/bacata/examples/halide/generated_code/blur.cpp:1:</a>:<pre>\n",
       "</pre> <a href=\"/edit/generated_code/blur.h\" target=\"_blank\"> /Users/mveranom/Documents/bacata/bacata-rascal/src/bacata/examples/halide/generated_code/blur.h:11:11</a>: error: use of undeclared identifier 'Image'<pre>\n",
       "Func blur(Image<float> in);\n",
       "          ^\n",
       "</pre> <a href=\"/edit/generated_code/blur.h\" target=\"_blank\"> /Users/mveranom/Documents/bacata/bacata-rascal/src/bacata/examples/halide/generated_code/blur.h:11:22</a>: error: expected '(' for function-style cast or type construction<pre>\n",
       "Func blur(Image<float> in);\n",
       "                ~~~~~^\n",
       "</pre> <a href=\"/edit/generated_code/blur.h\" target=\"_blank\"> /Users/mveranom/Documents/bacata/bacata-rascal/src/bacata/examples/halide/generated_code/blur.h:11:24</a>: error: use of undeclared identifier 'in'<pre>\n",
       "Func blur(Image<float> in);\n",
       "                       ^\n",
       "</pre> <a href=\"/edit/generated_code/blur.cpp\" target=\"_blank\"> /Users/mveranom/Documents/bacata/bacata-rascal/src/bacata/examples/halide/generated_code/blur.cpp:2:6</a>: error: redefinition of 'blur'<pre>\n",
       "Func blur(Image<float> in){\n",
       "     ^\n",
       "</pre> <a href=\"/edit/generated_code/blur.h\" target=\"_blank\"> /Users/mveranom/Documents/bacata/bacata-rascal/src/bacata/examples/halide/generated_code/blur.h:11:6</a>: note: previous definition is here<pre>\n",
       "Func blur(Image<float> in);\n",
       "     ^\n",
       "</pre> <a href=\"/edit/generated_code/blur.cpp\" target=\"_blank\"> /Users/mveranom/Documents/bacata/bacata-rascal/src/bacata/examples/halide/generated_code/blur.cpp:2:11</a>: error: use of undeclared identifier 'Image'<pre>\n",
       "Func blur(Image<float> in){\n",
       "          ^\n",
       "</pre> <a href=\"/edit/generated_code/blur.cpp\" target=\"_blank\"> /Users/mveranom/Documents/bacata/bacata-rascal/src/bacata/examples/halide/generated_code/blur.cpp:2:22</a>: error: expected '(' for function-style cast or type construction<pre>\n",
       "Func blur(Image<float> in){\n",
       "                ~~~~~^\n",
       "</pre> <a href=\"/edit/generated_code/blur.cpp\" target=\"_blank\"> /Users/mveranom/Documents/bacata/bacata-rascal/src/bacata/examples/halide/generated_code/blur.cpp:2:24</a>: error: use of undeclared identifier 'in'<pre>\n",
       "Func blur(Image<float> in){\n",
       "                       ^\n",
       "</pre> <a href=\"/edit/generated_code/blur.cpp\" target=\"_blank\"> /Users/mveranom/Documents/bacata/bacata-rascal/src/bacata/examples/halide/generated_code/blur.cpp:2:27</a>: error: expected ';' after top level declarator<pre>\n",
       "Func blur(Image<float> in){\n",
       "                          ^\n",
       "                          ;\n",
       "8 errors generated.\n",
       "In file included from </pre> <a href=\"/edit/generated_code/in.cpp\" target=\"_blank\"> /Users/mveranom/Documents/bacata/bacata-rascal/src/bacata/examples/halide/generated_code/in.cpp:1:</a>:<pre>\n",
       "</pre> <a href=\"/edit/generated_code/in.h\" target=\"_blank\"> /Users/mveranom/Documents/bacata/bacata-rascal/src/bacata/examples/halide/generated_code/in.h:9:1</a>: error: unknown type name 'Image'<pre>\n",
       "Image<float> in();\n",
       "^\n",
       "</pre> <a href=\"/edit/generated_code/in.h\" target=\"_blank\"> /Users/mveranom/Documents/bacata/bacata-rascal/src/bacata/examples/halide/generated_code/in.h:9:6</a>: error: expected unqualified-id<pre>\n",
       "Image<float> in();\n",
       "     ^\n",
       "</pre> <a href=\"/edit/generated_code/in.cpp\" target=\"_blank\"> /Users/mveranom/Documents/bacata/bacata-rascal/src/bacata/examples/halide/generated_code/in.cpp:3:1</a>: error: unknown type name 'Image'<pre>\n",
       "Image<float> in(){\n",
       "^\n",
       "</pre> <a href=\"/edit/generated_code/in.cpp\" target=\"_blank\"> /Users/mveranom/Documents/bacata/bacata-rascal/src/bacata/examples/halide/generated_code/in.cpp:3:6</a>: error: expected unqualified-id<pre>\n",
       "Image<float> in(){\n",
       "     ^\n",
       "4 errors generated.\n",
       "</div>"
      ]
     },
     "metadata": {
      "text/html": "<div class = \"output_stderr\"> In file included from </pre> <a href=\"/edit/generated_code/main_blur.cpp\" target=\"_blank\"> /Users/mveranom/Documents/bacata/bacata-rascal/src/bacata/examples/halide/generated_code/main_blur.cpp:1:</a>:<pre>\n</pre> <a href=\"/edit/generated_code/blur.h\" target=\"_blank\"> /Users/mveranom/Documents/bacata/bacata-rascal/src/bacata/examples/halide/generated_code/blur.h:11:11</a>: error: use of undeclared identifier 'Image'<pre>\nFunc blur(Image<float> in);\n          ^\n</pre> <a href=\"/edit/generated_code/blur.h\" target=\"_blank\"> /Users/mveranom/Documents/bacata/bacata-rascal/src/bacata/examples/halide/generated_code/blur.h:11:22</a>: error: expected '(' for function-style cast or type construction<pre>\nFunc blur(Image<float> in);\n                ~~~~~^\n</pre> <a href=\"/edit/generated_code/blur.h\" target=\"_blank\"> /Users/mveranom/Documents/bacata/bacata-rascal/src/bacata/examples/halide/generated_code/blur.h:11:24</a>: error: use of undeclared identifier 'in'<pre>\nFunc blur(Image<float> in);\n                       ^\nIn file included from </pre> <a href=\"/edit/generated_code/main_blur.cpp\" target=\"_blank\"> /Users/mveranom/Documents/bacata/bacata-rascal/src/bacata/examples/halide/generated_code/main_blur.cpp:2:</a>:<pre>\n</pre> <a href=\"/edit/generated_code/in.h\" target=\"_blank\"> /Users/mveranom/Documents/bacata/bacata-rascal/src/bacata/examples/halide/generated_code/in.h:9:1</a>: error: unknown type name 'Image'<pre>\nImage<float> in();\n^\n</pre> <a href=\"/edit/generated_code/in.h\" target=\"_blank\"> /Users/mveranom/Documents/bacata/bacata-rascal/src/bacata/examples/halide/generated_code/in.h:9:6</a>: error: expected unqualified-id<pre>\nImage<float> in();\n     ^\n</pre> <a href=\"/edit/generated_code/main_blur.cpp\" target=\"_blank\"> /Users/mveranom/Documents/bacata/bacata-rascal/src/bacata/examples/halide/generated_code/main_blur.cpp:8:2</a>: error: use of undeclared identifier 'Image'<pre>\n        Image<float> output1 = blur(in()).realize(in().width(), in().height(), in().channels(), target);\n        ^\n</pre> <a href=\"/edit/generated_code/main_blur.cpp\" target=\"_blank\"> /Users/mveranom/Documents/bacata/bacata-rascal/src/bacata/examples/halide/generated_code/main_blur.cpp:8:13</a>: error: expected '(' for function-style cast or type construction<pre>\n        Image<float> output1 = blur(in()).realize(in().width(), in().height(), in().channels(), target);\n              ~~~~~^\n</pre> <a href=\"/edit/generated_code/main_blur.cpp\" target=\"_blank\"> /Users/mveranom/Documents/bacata/bacata-rascal/src/bacata/examples/halide/generated_code/main_blur.cpp:8:15</a>: error: use of undeclared identifier 'output1'<pre>\n        Image<float> output1 = blur(in()).realize(in().width(), in().height(), in().channels(), target);\n                     ^\n</pre> <a href=\"/edit/generated_code/main_blur.cpp\" target=\"_blank\"> /Users/mveranom/Documents/bacata/bacata-rascal/src/bacata/examples/halide/generated_code/main_blur.cpp:8:30</a>: error: use of undeclared identifier 'in'<pre>\n        Image<float> output1 = blur(in()).realize(in().width(), in().height(), in().channels(), target);\n                                    ^\n</pre> <a href=\"/edit/generated_code/main_blur.cpp\" target=\"_blank\"> /Users/mveranom/Documents/bacata/bacata-rascal/src/bacata/examples/halide/generated_code/main_blur.cpp:8:44</a>: error: use of undeclared identifier 'in'<pre>\n        Image<float> output1 = blur(in()).realize(in().width(), in().height(), in().channels(), target);\n                                                  ^\n</pre> <a href=\"/edit/generated_code/main_blur.cpp\" target=\"_blank\"> /Users/mveranom/Documents/bacata/bacata-rascal/src/bacata/examples/halide/generated_code/main_blur.cpp:8:58</a>: error: use of undeclared identifier 'in'<pre>\n        Image<float> output1 = blur(in()).realize(in().width(), in().height(), in().channels(), target);\n                                                                ^\n</pre> <a href=\"/edit/generated_code/main_blur.cpp\" target=\"_blank\"> /Users/mveranom/Documents/bacata/bacata-rascal/src/bacata/examples/halide/generated_code/main_blur.cpp:8:73</a>: error: use of undeclared identifier 'in'<pre>\n        Image<float> output1 = blur(in()).realize(in().width(), in().height(), in().channels(), target);\n                                                                               ^\n</pre> <a href=\"/edit/generated_code/main_blur.cpp\" target=\"_blank\"> /Users/mveranom/Documents/bacata/bacata-rascal/src/bacata/examples/halide/generated_code/main_blur.cpp:10:13</a>: error: use of undeclared identifier 'output1'<pre>\n        save_image(output1, \"/Users/mveranom/Documents/bacata/bacata-rascal/src/bacata/examples/halide/generated_code/images/output1.png\");\n                   ^\n13 errors generated.\nIn file included from </pre> <a href=\"/edit/generated_code/blur.cpp\" target=\"_blank\"> /Users/mveranom/Documents/bacata/bacata-rascal/src/bacata/examples/halide/generated_code/blur.cpp:1:</a>:<pre>\n</pre> <a href=\"/edit/generated_code/blur.h\" target=\"_blank\"> /Users/mveranom/Documents/bacata/bacata-rascal/src/bacata/examples/halide/generated_code/blur.h:11:11</a>: error: use of undeclared identifier 'Image'<pre>\nFunc blur(Image<float> in);\n          ^\n</pre> <a href=\"/edit/generated_code/blur.h\" target=\"_blank\"> /Users/mveranom/Documents/bacata/bacata-rascal/src/bacata/examples/halide/generated_code/blur.h:11:22</a>: error: expected '(' for function-style cast or type construction<pre>\nFunc blur(Image<float> in);\n                ~~~~~^\n</pre> <a href=\"/edit/generated_code/blur.h\" target=\"_blank\"> /Users/mveranom/Documents/bacata/bacata-rascal/src/bacata/examples/halide/generated_code/blur.h:11:24</a>: error: use of undeclared identifier 'in'<pre>\nFunc blur(Image<float> in);\n                       ^\n</pre> <a href=\"/edit/generated_code/blur.cpp\" target=\"_blank\"> /Users/mveranom/Documents/bacata/bacata-rascal/src/bacata/examples/halide/generated_code/blur.cpp:2:6</a>: error: redefinition of 'blur'<pre>\nFunc blur(Image<float> in){\n     ^\n</pre> <a href=\"/edit/generated_code/blur.h\" target=\"_blank\"> /Users/mveranom/Documents/bacata/bacata-rascal/src/bacata/examples/halide/generated_code/blur.h:11:6</a>: note: previous definition is here<pre>\nFunc blur(Image<float> in);\n     ^\n</pre> <a href=\"/edit/generated_code/blur.cpp\" target=\"_blank\"> /Users/mveranom/Documents/bacata/bacata-rascal/src/bacata/examples/halide/generated_code/blur.cpp:2:11</a>: error: use of undeclared identifier 'Image'<pre>\nFunc blur(Image<float> in){\n          ^\n</pre> <a href=\"/edit/generated_code/blur.cpp\" target=\"_blank\"> /Users/mveranom/Documents/bacata/bacata-rascal/src/bacata/examples/halide/generated_code/blur.cpp:2:22</a>: error: expected '(' for function-style cast or type construction<pre>\nFunc blur(Image<float> in){\n                ~~~~~^\n</pre> <a href=\"/edit/generated_code/blur.cpp\" target=\"_blank\"> /Users/mveranom/Documents/bacata/bacata-rascal/src/bacata/examples/halide/generated_code/blur.cpp:2:24</a>: error: use of undeclared identifier 'in'<pre>\nFunc blur(Image<float> in){\n                       ^\n</pre> <a href=\"/edit/generated_code/blur.cpp\" target=\"_blank\"> /Users/mveranom/Documents/bacata/bacata-rascal/src/bacata/examples/halide/generated_code/blur.cpp:2:27</a>: error: expected ';' after top level declarator<pre>\nFunc blur(Image<float> in){\n                          ^\n                          ;\n8 errors generated.\nIn file included from </pre> <a href=\"/edit/generated_code/in.cpp\" target=\"_blank\"> /Users/mveranom/Documents/bacata/bacata-rascal/src/bacata/examples/halide/generated_code/in.cpp:1:</a>:<pre>\n</pre> <a href=\"/edit/generated_code/in.h\" target=\"_blank\"> /Users/mveranom/Documents/bacata/bacata-rascal/src/bacata/examples/halide/generated_code/in.h:9:1</a>: error: unknown type name 'Image'<pre>\nImage<float> in();\n^\n</pre> <a href=\"/edit/generated_code/in.h\" target=\"_blank\"> /Users/mveranom/Documents/bacata/bacata-rascal/src/bacata/examples/halide/generated_code/in.h:9:6</a>: error: expected unqualified-id<pre>\nImage<float> in();\n     ^\n</pre> <a href=\"/edit/generated_code/in.cpp\" target=\"_blank\"> /Users/mveranom/Documents/bacata/bacata-rascal/src/bacata/examples/halide/generated_code/in.cpp:3:1</a>: error: unknown type name 'Image'<pre>\nImage<float> in(){\n^\n</pre> <a href=\"/edit/generated_code/in.cpp\" target=\"_blank\"> /Users/mveranom/Documents/bacata/bacata-rascal/src/bacata/examples/halide/generated_code/in.cpp:3:6</a>: error: expected unqualified-id<pre>\nImage<float> in(){\n     ^\n4 errors generated.\n</div>"
     },
     "output_type": "display_data"
    }
   ],
   "source": [
    "Image<float> output1 = blur(in).realize(in.width(), in.height(), in.channels());"
   ]
  },
  {
   "cell_type": "code",
   "execution_count": null,
   "metadata": {},
   "outputs": [],
   "source": []
  }
 ],
 "metadata": {
  "kernelspec": {
   "display_name": "Halide",
   "language": "halide",
   "name": "halide"
  },
  "language_info": {
   "codemirror_mode": {
    "name": "halide"
   },
   "file_extension": ".rsc",
   "mimetype": "text/x-rascal",
   "name": "Rascal",
   "version": "1.8.0_77"
  }
 },
 "nbformat": 4,
 "nbformat_minor": 2
}
