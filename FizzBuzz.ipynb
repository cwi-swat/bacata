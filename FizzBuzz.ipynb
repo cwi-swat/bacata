{
 "cells": [
  {
   "cell_type": "markdown",
   "metadata": {},
   "source": [
    "# Rascal Kernel Example\n",
    "___"
   ]
  },
  {
   "cell_type": "markdown",
   "metadata": {},
   "source": [
    "**Name: ** FizzBuzz\n",
    "\n",
    "**Description: ** _FizzBuzz_ is a well-known puzzle that is used at job interviews. It is defined as follows:\n",
    "Write a program that prints the number from 1 to 100. But, for multiples of three print \"Fizz\"instead of the number and for the multiples of five print \"Buzz\".\n",
    "\n",
    "Surprisingly, many candidates fail to pass this test. Solutions to FizzBuzz in various languages are available here [link]()"
   ]
  },
  {
   "cell_type": "markdown",
   "metadata": {},
   "source": [
    "## Rascal Example\n",
    "Here is a possible solution using Rascal."
   ]
  },
  {
   "cell_type": "code",
   "execution_count": 1,
   "metadata": {},
   "outputs": [
    {
     "data": {
      "text/plain": [
       "ok\n"
      ]
     },
     "execution_count": 1,
     "metadata": {},
     "output_type": "execute_result"
    }
   ],
   "source": [
    "import lang::dimacs::\\syntax::Dimacs;"
   ]
  },
  {
   "cell_type": "code",
   "execution_count": 2,
   "metadata": {},
   "outputs": [
    {
     "data": {
      "text/plain": [
       "void (): function(\u001b[0;34;4m|prompt:///|(0,170,<1,0>,<6,1>)\u001b[m)\n"
      ]
     },
     "execution_count": 2,
     "metadata": {},
     "output_type": "execute_result"
    }
   ],
   "source": [
    "public void fizzbuzz(){\n",
    "    for(int n <- [1 .. 101]){\n",
    "        fb = ((n%3 == 0)? \"Fizz\": \"\") + (( n%5 == 0) ? \"Buzz\": \"\");\n",
    "        println((fb == \"\") ? \"<n>\": fb);\n",
    "    }\n",
    "}"
   ]
  },
  {
   "cell_type": "code",
   "execution_count": 3,
   "metadata": {},
   "outputs": [
    {
     "data": {
      "text/plain": [
       "1\n",
       "2\n",
       "Fizz\n",
       "4\n",
       "Buzz\n",
       "Fizz\n",
       "7\n",
       "8\n",
       "Fizz\n",
       "Buzz\n",
       "11\n",
       "Fizz\n",
       "13\n",
       "14\n",
       "FizzBuzz\n",
       "16\n",
       "17\n",
       "Fizz\n",
       "19\n",
       "Buzz\n",
       "Fizz\n",
       "22\n",
       "23\n",
       "Fizz\n",
       "Buzz\n",
       "26\n",
       "Fizz\n",
       "28\n",
       "29\n",
       "FizzBuzz\n",
       "31\n",
       "32\n",
       "Fizz\n",
       "34\n",
       "Buzz\n",
       "Fizz\n",
       "37\n",
       "38\n",
       "Fizz\n",
       "Buzz\n",
       "41\n",
       "Fizz\n",
       "43\n",
       "44\n",
       "FizzBuzz\n",
       "46\n",
       "47\n",
       "Fizz\n",
       "49\n",
       "Buzz\n",
       "Fizz\n",
       "52\n",
       "53\n",
       "Fizz\n",
       "Buzz\n",
       "56\n",
       "Fizz\n",
       "58\n",
       "59\n",
       "FizzBuzz\n",
       "61\n",
       "62\n",
       "Fizz\n",
       "64\n",
       "Buzz\n",
       "Fizz\n",
       "67\n",
       "68\n",
       "Fizz\n",
       "Buzz\n",
       "71\n",
       "Fizz\n",
       "73\n",
       "74\n",
       "FizzBuzz\n",
       "76\n",
       "77\n",
       "Fizz\n",
       "79\n",
       "Buzz\n",
       "Fizz\n",
       "82\n",
       "83\n",
       "Fizz\n",
       "Buzz\n",
       "86\n",
       "Fizz\n",
       "88\n",
       "89\n",
       "FizzBuzz\n",
       "91\n",
       "92\n",
       "Fizz\n",
       "94\n",
       "Buzz\n",
       "Fizz\n",
       "97\n",
       "98\n",
       "Fizz\n",
       "Buzz\n",
       "ok\n"
      ]
     },
     "execution_count": 3,
     "metadata": {},
     "output_type": "execute_result"
    }
   ],
   "source": [
    "fizzbuzz();"
   ]
  },
  {
   "cell_type": "code",
   "execution_count": null,
   "metadata": {
    "collapsed": true
   },
   "outputs": [],
   "source": []
  }
 ],
 "metadata": {
  "kernelspec": {
   "display_name": "Rascal Kernel",
   "language": "java",
   "name": "javakernel"
  },
  "language_info": {
   "codemirror_mode": "clike",
   "file_extension": ".java",
   "mimetype": "text/x-java",
   "name": "Java",
   "version": "1.8.0_77"
  }
 },
 "nbformat": 4,
 "nbformat_minor": 2
}
