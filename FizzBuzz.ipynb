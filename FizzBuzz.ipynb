{
 "cells": [
  {
   "cell_type": "markdown",
   "metadata": {},
   "source": [
    "# Rascal Kernel Example"
   ]
  },
  {
   "cell_type": "markdown",
   "metadata": {},
   "source": [
    "**Name: ** FizzBuzz\n",
    "\n",
    "**Description: ** _FizzBuzz_ is a well-known puzzle that is used at job interviews. It is defined as follows:\n",
    "Write a program that prints the number from 1 to 100. But, for multiples of three print \"Fizz\"instead of the number and for the multiples of five print \"Buzz\".\n",
    "\n",
    "Surprisingly, many candidates fail to pass this test. Solutions to FizzBuzz in various languages are available here [link]()"
   ]
  },
  {
   "cell_type": "markdown",
   "metadata": {},
   "source": [
    "## Rascal Example\n",
    "Here is a possible solution using Rascal."
   ]
  },
  {
   "cell_type": "code",
   "execution_count": 1,
   "metadata": {},
   "outputs": [
    {
     "data": {
      "text/html": [
       "<p style=\"color:blue;\">ok\n",
       "</p>"
      ]
     },
     "metadata": {},
     "output_type": "display_data"
    }
   ],
   "source": [
    "import IO;"
   ]
  },
  {
   "cell_type": "code",
   "execution_count": 2,
   "metadata": {},
   "outputs": [
    {
     "data": {
      "text/plain": [
       "void (): function(\u001b[0;34;4m|prompt:///|(0,170,<1,0>,<6,1>)\u001b[m)\n"
      ]
     },
     "execution_count": 2,
     "metadata": {},
     "output_type": "execute_result"
    }
   ],
   "source": [
    "public void fizzbuzz(){\n",
    "    for(int n <- [1 .. 101]){\n",
    "        fb = ((n%3 == 0)? \"Fizz\": \"\") + (( n%5 == 0) ? \"Buzz\": \"\");\n",
    "        println((fb == \"\") ? \"<n>\": fb);\n",
    "    }\n",
    "}"
   ]
  },
  {
   "cell_type": "code",
   "execution_count": null,
   "metadata": {
    "collapsed": true
   },
   "outputs": [],
   "source": []
  }
 ],
 "metadata": {
  "kernelspec": {
   "display_name": "Rascal Kernel",
   "language": "java",
   "name": "javakernel"
  },
  "language_info": {
   "codemirro_mode": "text/x-java",
   "file_extension": ".java",
   "mimetype": "text/x-java",
   "name": "Java",
   "version": "1.8.0_77"
  }
 },
 "nbformat": 4,
 "nbformat_minor": 2
}
