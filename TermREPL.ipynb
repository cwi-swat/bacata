{
 "cells": [
  {
   "cell_type": "code",
   "execution_count": 1,
   "metadata": {
    "collapsed": true
   },
   "outputs": [],
   "source": [
    "import util::REPL;"
   ]
  },
  {
   "cell_type": "code",
   "execution_count": 2,
   "metadata": {},
   "outputs": [
    {
     "data": {
      "text/html": [
       "<pre title=\"Type: REPL\">repl(\"Amalga\",\"bienvenido\",\"amalga prompt: \",|project://rascal/src/org/rascalmpl/library/util/tmp.txt|,function(|prompt:///|(113,50,<1,113>,<1,163>)),function(|prompt:///|(165,67,<1,165>,<1,232>)))</pre>"
      ]
     },
     "execution_count": 2,
     "metadata": {},
     "output_type": "execute_result"
    }
   ],
   "source": [
    "rp =  repl(\"Amalga\", \"bienvenido\", \"amalga prompt: \", |project://rascal/src/org/rascalmpl/library/util/tmp.txt|, CommandResult(str hola) {return <\"hola\",li,\"df\">;}, Completion(str line, int cursor){return <cursor, [\"hola\",\"chao\"]>;});"
   ]
  },
  {
   "cell_type": "code",
   "execution_count": 3,
   "metadata": {},
   "outputs": [
    {
     "name": "stderr",
     "output_type": "stream",
     "text": [
      "org.rascalmpl.uri.UnsupportedSchemeException: Unsupported scheme project\n",
      "\tat org.rascalmpl.uri.URIResolverRegistry.getOutputStream(URIResolverRegistry.java:557)\n",
      "\tat org.rascalmpl.repl.SourceLocationHistory.flush(SourceLocationHistory.java:55)\n",
      "\tat org.rascalmpl.repl.BaseREPL.run(BaseREPL.java:361)\n",
      "\tat org.rascalmpl.library.util.TermREPL.startREPL(TermREPL.java:45)\n",
      "\tat sun.reflect.NativeMethodAccessorImpl.invoke0(Native Method)\n",
      "\tat sun.reflect.NativeMethodAccessorImpl.invoke(NativeMethodAccessorImpl.java:62)\n",
      "\tat sun.reflect.DelegatingMethodAccessorImpl.invoke(DelegatingMethodAccessorImpl.java:43)\n",
      "\tat java.lang.reflect.Method.invoke(Method.java:498)\n",
      "\tat org.rascalmpl.interpreter.result.JavaMethod.invoke(JavaMethod.java:230)\n",
      "\tat org.rascalmpl.interpreter.result.JavaMethod.call(JavaMethod.java:162)\n",
      "\tat org.rascalmpl.semantics.dynamic.Expression$CallOrTree.interpret(Expression.java:528)\n",
      "\tat org.rascalmpl.semantics.dynamic.Statement$Expression.interpret(Statement.java:365)\n",
      "\tat org.rascalmpl.interpreter.Evaluator.eval(Evaluator.java:873)\n",
      "\tat org.rascalmpl.semantics.dynamic.Command$Statement.interpret(Command.java:125)\n",
      "\tat org.rascalmpl.interpreter.Evaluator.eval(Evaluator.java:1080)\n",
      "\tat org.rascalmpl.interpreter.Evaluator.eval(Evaluator.java:950)\n",
      "\tat org.rascalmpl.interpreter.Evaluator.eval(Evaluator.java:905)\n",
      "\tat org.rascalmpl.repl.RascalInterpreterREPL.evalStatement(RascalInterpreterREPL.java:118)\n",
      "\tat org.rascalmpl.repl.BaseRascalREPL.handleInput(BaseRascalREPL.java:103)\n",
      "\tat testImplementations.MetaJupyterServer.processExecuteRequest(MetaJupyterServer.java:94)\n",
      "\tat server.JupyterServer.processShellMessageType(JupyterServer.java:138)\n",
      "\tat server.JupyterServer.listenShellSocket(JupyterServer.java:118)\n",
      "\tat server.JupyterServer.startServer(JupyterServer.java:87)\n",
      "\tat testImplementations.MetaJupyterServer.<init>(MetaJupyterServer.java:75)\n",
      "\tat testImplementations.MetaJupyterServer.main(MetaJupyterServer.java:210)\n"
     ]
    }
   ],
   "source": [
    "startREPL(rp);"
   ]
  },
  {
   "cell_type": "code",
   "execution_count": null,
   "metadata": {
    "collapsed": true
   },
   "outputs": [],
   "source": [
    "|project://rascal/src/org/rascalmpl/library/util/tmp.txt|"
   ]
  }
 ],
 "metadata": {
  "kernelspec": {
   "display_name": "Rascal Kernel",
   "language": "java",
   "name": "javakernel"
  },
  "language_info": {
   "codemirror_mode": {
    "name": "rascal"
   },
   "file_extension": ".rsc",
   "mimetype": "text/x-rascal",
   "name": "Rascal",
   "version": "1.8.0_77"
  }
 },
 "nbformat": 4,
 "nbformat_minor": 2
}
