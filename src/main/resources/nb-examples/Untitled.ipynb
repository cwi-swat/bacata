{
 "cells": [
  {
   "cell_type": "code",
   "execution_count": null,
   "metadata": {},
   "outputs": [
    {
     "data": {
      "text/plain": [
       "              ^ Parse error here\n"
      ]
     },
     "execution_count": 1,
     "metadata": {},
     "output_type": "execute_result"
    }
   ],
   "source": [
    "module lang::amalga::Syntax"
   ]
  },
  {
   "cell_type": "code",
   "execution_count": 2,
   "metadata": {},
   "outputs": [
    {
     "data": {
      "text/plain": [
       "ok\n"
      ]
     },
     "execution_count": 2,
     "metadata": {},
     "output_type": "execute_result"
    }
   ],
   "source": [
    "start syntax Program = \"module\" Id name Definition* definitions ExecutionScenario+ executionScenarios;"
   ]
  },
  {
   "cell_type": "code",
   "execution_count": 3,
   "metadata": {},
   "outputs": [
    {
     "data": {
      "text/plain": [
       "ok\n"
      ]
     },
     "execution_count": 3,
     "metadata": {},
     "output_type": "execute_result"
    }
   ],
   "source": [
    "syntax Definition \n",
    "\t= @Foldable func: \"function\" Id functionName \"(\" {Parameter \",\"}* params \")\" \":\" Expression+ body \"end\"\n",
    "\t| var:  Type typ Id id \"=\" Exp exp\n",
    "\t| prim: \"primitive\" Type return Id id \"(\" {Parameter \",\"}* params \")\" \";\"\n",
    "  \t;"
   ]
  },
  {
   "cell_type": "code",
   "execution_count": 4,
   "metadata": {},
   "outputs": [
    {
     "data": {
      "text/plain": [
       "ok\n"
      ]
     },
     "execution_count": 4,
     "metadata": {},
     "output_type": "execute_result"
    }
   ],
   "source": [
    "syntax Exp \n",
    "\t= @Foldable condIf:  \"if\" Exp cond Exp then \"else\" Exp elsePart \"end\"\n",
    "\t| @Foldable forLoop: \"for\" \"x\" \":\" Exp xRange \",\" \"y\" \":\" Exp yRange \",\" \"c\" \":\" Exp colorRange Exp body \n",
    "\t| newImage: Id id \"[\" \"x\" \":\" Exp xRange \",\" \"y\" \":\" Exp yRange \",\" \"c\" \":\" Exp colorRange \"]\" \"=\" Exp body \n",
    "\t| implicitLoop: Exp name \"-\\>\" Exp body\n",
    "\t| block: \"do\" \":\" Exp+ body \"od\"\n",
    "\t> ite: Exp cond \"?\" Exp then \":\" Exp else\n",
    "\t;"
   ]
  },
  {
   "cell_type": "code",
   "execution_count": 5,
   "metadata": {},
   "outputs": [
    {
     "data": {
      "text/plain": [
       "ok\n"
      ]
     },
     "execution_count": 5,
     "metadata": {},
     "output_type": "execute_result"
    }
   ],
   "source": [
    "syntax Parameter = Type type Exp name;"
   ]
  },
  {
   "cell_type": "code",
   "execution_count": null,
   "metadata": {
    "collapsed": true
   },
   "outputs": [],
   "source": [
    "module execution\n",
    "\n",
    "function levelMask(img<int32_t> param[x,y,c]):\n",
    "\tr[x] -> randomInt();\n",
    "\t\n",
    "\tlevel[x,y,c] -> do:\n",
    "\t\tif c==2 || c==0\n",
    "\t\t\tif param[x,y,c] == 67\n",
    "\t\t\t\tif r[x]==1 \n",
    "\t\t\t\t\t10\n",
    "\t\t\t\telse\n",
    "\t\t\t\t\t30\n",
    "\t\t\t\tend\t\n",
    "\t\t\telse\n",
    "\t\t\t\tparam[x,y,c]\n",
    "\t\t\tend\t\n",
    "\t\telse\n",
    "\t\t\tif param[x,y,c] == 67 && (r[x]==10)\n",
    "\t\t\t\t10\n",
    "\t\t\telse\n",
    "\t\t\t\tparam[x,y,c]\n",
    "\t\t\tend\n",
    "\t\tend\n",
    "\tod;\n",
    "\treturn level;\n",
    "end\n",
    "\n",
    "exec tst1{\n",
    "\timg<int32_t> img1= loadImage(\"images/rgb.png\");\n",
    "\timg<int32_t> output = run(levelMask(img1), img1.width(), img1.height(), img1.channels());\n",
    "\tsave(output, \"images/levelOutput.png\");\n",
    "\t##renderImage(output);\n",
    "\t##assert output != input;\n",
    "}\n",
    "\n",
    "exec test2{\n",
    "\timg<int32_t> img2= loadImage(\"images/gray.png\");\n",
    "\timg<int32_t> output2 = run(levelMask(img2), img2.width(), img2.height(), img2.channels());\n",
    "\tsave(output2, \"images/output/levelOutput2.png\");\n",
    "}"
   ]
  }
 ],
 "metadata": {
  "kernelspec": {
   "display_name": "Rascal Kernel",
   "language": "java",
   "name": "javakernel"
  },
  "language_info": {
   "codemirror_mode": "clike",
   "file_extension": ".java",
   "mimetype": "text/x-java",
   "name": "java",
   "version": "1.8.0_77"
  }
 },
 "nbformat": 4,
 "nbformat_minor": 2
}
