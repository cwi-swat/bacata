{
 "cells": [
  {
   "cell_type": "code",
   "execution_count": 1,
   "metadata": {},
   "outputs": [
    {
     "data": {
      "text/html": [
       "<pre title=\"Type: loc\"><a href=\"../edit/Plugin.rsc\">Plugin.rsc</a></pre>"
      ]
     },
     "execution_count": 1,
     "metadata": {},
     "output_type": "execute_result"
    }
   ],
   "source": [
    "|file://Plugin.rsc|"
   ]
  },
  {
   "cell_type": "code",
   "execution_count": 1,
   "metadata": {},
   "outputs": [
    {
     "data": {
      "text/html": [
       "<pre title=\"Type: int\">2</pre>"
      ]
     },
     "execution_count": 1,
     "metadata": {},
     "output_type": "execute_result"
    }
   ],
   "source": [
    "1+1;"
   ]
  },
  {
   "cell_type": "code",
   "execution_count": null,
   "metadata": {
    "collapsed": true
   },
   "outputs": [],
   "source": [
    "@doc{\n",
    ".Synopsis\n",
    "Object Instantiation Language (OIL) for building Java objects at run-time.\n",
    "\n",
    ".Description\n",
    "\n",
    "The OIL language is an abstract language which can be considered\n",
    "a small sub-set of the Java language. It allows one to build objects\n",
    "using fully qualified class names (which should be on the run-time\n",
    "classpath somehow). \n",
    "\n",
    "A call to the <<interpret>> function will load an OIL expression and \n",
    "generate the object in memory and then call the toString() method\n",
    "on it, returning the resulting string.\n",
    "\n",
    "OIL works best in combination with writing one or two `java` functions\n",
    "for example to be able to influence the classpath and or to further process\n",
    "the constructed object (if necessary). In this case we call the interpret\n",
    "function directly from Java. The <<interpret>> function is used to debug\n",
    "an OIL expression and eventually we use the <<interpret>> method directly\n",
    "from Java.\n",
    "\n",
    ".Benefits\n",
    "\n",
    "*  OIL is made to avoid having to write Java when reusing a Java library.\n",
    "\n",
    ".Pitfalls\n",
    "\n",
    "*  The OIL language is experimental and not used much. It is unfinished and there may be bugs.\n",
    "} \n",
    "module lang::oil::Main\n",
    "\n",
    "data Exp  = \\new(str class, list[Exp] arguments, list[Exp] calls)\n",
    "          | \\atom(int i)\n",
    "          | \\atom(str s)\n",
    "          | \\atom(bool b)\n",
    "          | \\call(str class, str method, list[Exp] arguments, list[Exp] calls)\n",
    "          | \\let(str key, Exp val)\n",
    "          | \\use(str key, Exp val)\n",
    "          | \\with(str prefix, Exp exp)\n",
    "          | \\access(str class, str field)\n",
    "          ;\n",
    "\n",
    "@javaClass{org.rascalmpl.library.lang.oil.Interpreter}\n",
    "@doc{\n",
    ".Synopsis\n",
    "convert an OIL expression to a Java object\n",
    ".Description\n",
    "\n",
    "Uses the Java reflection API and the current classpath to produce \n",
    "a Java object, interpreting the expressions, and then calls the\n",
    "`toString()` method and returns the resulting string.\n",
    "\n",
    "These are the instructions of OIL:\n",
    "\n",
    "*  `let` binds an object to a variable to be used later. This is useful \n",
    "not only to factor out common expressions, but also to implement sharing;\n",
    "\n",
    "*  `access` retrieves a field from an object, discarding the receiver object and keeping\n",
    "the objects referred to by the field name;\n",
    "\n",
    "*  `atom` builds on of Java's builtin data-types\n",
    "*  `use` dereferences an object which was bound earlier by a `let`\n",
    "*  `new` calls the constructor of a class with the provided argument list. The `methods` argument is ignored for now.\n",
    "*  `call` calls a method on the receiving object and returns the result. (this seems to be broken).\n",
    "*  `with` is unimplemented, intented to avoid having to fully qualify class names all the time. \n",
    "}\n",
    "public java str interpret(list[Exp] e);\n",
    "\n",
    "@javaClass{org.rascalmpl.library.lang.oil.Interpreter}\n",
    "public java str interpret(Exp e);"
   ]
  }
 ],
 "metadata": {
  "kernelspec": {
   "display_name": "Rascal Kernel",
   "language": "java",
   "name": "javakernel"
  },
  "language_info": {
   "codemirror_mode": {
    "name": "rascal"
   },
   "file_extension": ".rsc",
   "mimetype": "text/x-rascal",
   "name": "Rascal",
   "version": "1.8.0_77"
  }
 },
 "nbformat": 4,
 "nbformat_minor": 2
}
